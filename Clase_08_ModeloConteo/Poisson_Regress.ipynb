{
 "cells": [
  {
   "cell_type": "markdown",
   "metadata": {},
   "source": [
    "# Regresión Poisson\n",
    "\n",
    "Modelo simple aplicado a set de datos"
   ]
  },
  {
   "cell_type": "markdown",
   "metadata": {},
   "source": [
    "## 1. Importación de bibliotecas y datos:"
   ]
  },
  {
   "cell_type": "code",
   "execution_count": 1,
   "metadata": {},
   "outputs": [],
   "source": [
    "import pandas as pd\n",
    "import statsmodels.api as sm\n",
    "import numpy as np\n",
    "import matplotlib.pyplot as plt\n",
    "from statsmodels.iolib.summary2 import summary_col\n",
    "\n",
    "# Omiting WARNINGS\n",
    "import warnings\n",
    "warnings.filterwarnings('ignore')"
   ]
  },
  {
   "cell_type": "code",
   "execution_count": 2,
   "metadata": {},
   "outputs": [
    {
     "data": {
      "text/html": [
       "<div>\n",
       "<style scoped>\n",
       "    .dataframe tbody tr th:only-of-type {\n",
       "        vertical-align: middle;\n",
       "    }\n",
       "\n",
       "    .dataframe tbody tr th {\n",
       "        vertical-align: top;\n",
       "    }\n",
       "\n",
       "    .dataframe thead th {\n",
       "        text-align: right;\n",
       "    }\n",
       "</style>\n",
       "<table border=\"1\" class=\"dataframe\">\n",
       "  <thead>\n",
       "    <tr style=\"text-align: right;\">\n",
       "      <th></th>\n",
       "      <th>mnthborn</th>\n",
       "      <th>yearborn</th>\n",
       "      <th>age</th>\n",
       "      <th>electric</th>\n",
       "      <th>radio</th>\n",
       "      <th>tv</th>\n",
       "      <th>bicycle</th>\n",
       "      <th>educ</th>\n",
       "      <th>ceb</th>\n",
       "      <th>agefbrth</th>\n",
       "      <th>...</th>\n",
       "      <th>heduc</th>\n",
       "      <th>agesq</th>\n",
       "      <th>urban</th>\n",
       "      <th>urb_educ</th>\n",
       "      <th>spirit</th>\n",
       "      <th>protest</th>\n",
       "      <th>catholic</th>\n",
       "      <th>frsthalf</th>\n",
       "      <th>educ0</th>\n",
       "      <th>evermarr</th>\n",
       "    </tr>\n",
       "  </thead>\n",
       "  <tbody>\n",
       "    <tr>\n",
       "      <th>0</th>\n",
       "      <td>5</td>\n",
       "      <td>64</td>\n",
       "      <td>24</td>\n",
       "      <td>1.0</td>\n",
       "      <td>1.0</td>\n",
       "      <td>1.0</td>\n",
       "      <td>1.0</td>\n",
       "      <td>12</td>\n",
       "      <td>0</td>\n",
       "      <td>NaN</td>\n",
       "      <td>...</td>\n",
       "      <td>NaN</td>\n",
       "      <td>576</td>\n",
       "      <td>1</td>\n",
       "      <td>12</td>\n",
       "      <td>0</td>\n",
       "      <td>0</td>\n",
       "      <td>0</td>\n",
       "      <td>1</td>\n",
       "      <td>0</td>\n",
       "      <td>0</td>\n",
       "    </tr>\n",
       "    <tr>\n",
       "      <th>1</th>\n",
       "      <td>1</td>\n",
       "      <td>56</td>\n",
       "      <td>32</td>\n",
       "      <td>1.0</td>\n",
       "      <td>1.0</td>\n",
       "      <td>1.0</td>\n",
       "      <td>1.0</td>\n",
       "      <td>13</td>\n",
       "      <td>3</td>\n",
       "      <td>25.0</td>\n",
       "      <td>...</td>\n",
       "      <td>12.0</td>\n",
       "      <td>1024</td>\n",
       "      <td>1</td>\n",
       "      <td>13</td>\n",
       "      <td>0</td>\n",
       "      <td>0</td>\n",
       "      <td>0</td>\n",
       "      <td>1</td>\n",
       "      <td>0</td>\n",
       "      <td>1</td>\n",
       "    </tr>\n",
       "    <tr>\n",
       "      <th>2</th>\n",
       "      <td>7</td>\n",
       "      <td>58</td>\n",
       "      <td>30</td>\n",
       "      <td>1.0</td>\n",
       "      <td>0.0</td>\n",
       "      <td>0.0</td>\n",
       "      <td>0.0</td>\n",
       "      <td>5</td>\n",
       "      <td>1</td>\n",
       "      <td>27.0</td>\n",
       "      <td>...</td>\n",
       "      <td>7.0</td>\n",
       "      <td>900</td>\n",
       "      <td>1</td>\n",
       "      <td>5</td>\n",
       "      <td>1</td>\n",
       "      <td>0</td>\n",
       "      <td>0</td>\n",
       "      <td>0</td>\n",
       "      <td>0</td>\n",
       "      <td>1</td>\n",
       "    </tr>\n",
       "    <tr>\n",
       "      <th>3</th>\n",
       "      <td>11</td>\n",
       "      <td>45</td>\n",
       "      <td>42</td>\n",
       "      <td>1.0</td>\n",
       "      <td>0.0</td>\n",
       "      <td>1.0</td>\n",
       "      <td>0.0</td>\n",
       "      <td>4</td>\n",
       "      <td>3</td>\n",
       "      <td>17.0</td>\n",
       "      <td>...</td>\n",
       "      <td>11.0</td>\n",
       "      <td>1764</td>\n",
       "      <td>1</td>\n",
       "      <td>4</td>\n",
       "      <td>0</td>\n",
       "      <td>0</td>\n",
       "      <td>0</td>\n",
       "      <td>0</td>\n",
       "      <td>0</td>\n",
       "      <td>1</td>\n",
       "    </tr>\n",
       "    <tr>\n",
       "      <th>4</th>\n",
       "      <td>5</td>\n",
       "      <td>45</td>\n",
       "      <td>43</td>\n",
       "      <td>1.0</td>\n",
       "      <td>1.0</td>\n",
       "      <td>1.0</td>\n",
       "      <td>1.0</td>\n",
       "      <td>11</td>\n",
       "      <td>2</td>\n",
       "      <td>24.0</td>\n",
       "      <td>...</td>\n",
       "      <td>14.0</td>\n",
       "      <td>1849</td>\n",
       "      <td>1</td>\n",
       "      <td>11</td>\n",
       "      <td>0</td>\n",
       "      <td>1</td>\n",
       "      <td>0</td>\n",
       "      <td>1</td>\n",
       "      <td>0</td>\n",
       "      <td>1</td>\n",
       "    </tr>\n",
       "  </tbody>\n",
       "</table>\n",
       "<p>5 rows × 27 columns</p>\n",
       "</div>"
      ],
      "text/plain": [
       "   mnthborn  yearborn  age  electric  radio   tv  bicycle  educ  ceb  \\\n",
       "0         5        64   24       1.0    1.0  1.0      1.0    12    0   \n",
       "1         1        56   32       1.0    1.0  1.0      1.0    13    3   \n",
       "2         7        58   30       1.0    0.0  0.0      0.0     5    1   \n",
       "3        11        45   42       1.0    0.0  1.0      0.0     4    3   \n",
       "4         5        45   43       1.0    1.0  1.0      1.0    11    2   \n",
       "\n",
       "   agefbrth  ...  heduc  agesq  urban  urb_educ  spirit  protest  catholic  \\\n",
       "0       NaN  ...    NaN    576      1        12       0        0         0   \n",
       "1      25.0  ...   12.0   1024      1        13       0        0         0   \n",
       "2      27.0  ...    7.0    900      1         5       1        0         0   \n",
       "3      17.0  ...   11.0   1764      1         4       0        0         0   \n",
       "4      24.0  ...   14.0   1849      1        11       0        1         0   \n",
       "\n",
       "   frsthalf  educ0  evermarr  \n",
       "0         1      0         0  \n",
       "1         1      0         1  \n",
       "2         0      0         1  \n",
       "3         0      0         1  \n",
       "4         1      0         1  \n",
       "\n",
       "[5 rows x 27 columns]"
      ]
     },
     "execution_count": 2,
     "metadata": {},
     "output_type": "execute_result"
    }
   ],
   "source": [
    "# Read data\n",
    "fertil_df = pd.read_stata('FERTIL2.dta')\n",
    "fertil_df.head()"
   ]
  },
  {
   "cell_type": "markdown",
   "metadata": {},
   "source": [
    "### Datos importados:\n",
    "    1. mnthborn                 month woman born\n",
    "    2. yearborn                 year woman born\n",
    "    3. age                      age in years\n",
    "    4. electric                 =1 if has electricity\n",
    "    5. radio                    =1 if has radio\n",
    "    6. tv                       =1 if has tv\n",
    "    7. bicycle                  =1 if has bicycle\n",
    "    8. educ                     years of education\n",
    "    9. ceb                      children ever born\n",
    "    10. agefbrth                 age at first birth\n",
    "    11. children                 number of living children\n",
    "    12. knowmeth                 =1 if know about birth control\n",
    "    13. usemeth                  =1 if ever use birth control\n",
    "    14. monthfm                  month of first marriage\n",
    "    15. yearfm                   year of first marriage\n",
    "    16. agefm                    age at first marriage\n",
    "    17. idlnchld                 'ideal' number of children\n",
    "    18. heduc                    husband's years of education\n",
    "    19. agesq                    age^2\n",
    "    20. urban                    =1 if live in urban area\n",
    "    21. urbeduc                  urban*educ\n",
    "    22. spirit                   =1 if religion == spirit\n",
    "    23. protest                  =1 if religion == protestant\n",
    "    24. catholic                 =1 if religion == catholic\n",
    "    25. frsthalf                 =1 if mnthborn <= 6\n",
    "    26. educ0                    =1 if educ == 0\n",
    "    27. evermarr                 =1 if ever married\n"
   ]
  },
  {
   "cell_type": "markdown",
   "metadata": {},
   "source": [
    "Utilizamos los datos para estimar los efectos de la educación sobre la fertilidad de las mujeres en Botswana. La variable de respuesta es el número de niños vivos. Usamos una función de regresión exponencial estándar, y las variables explicativas son años de escolaridad (educ), una edad cuadrática e indicadores binarios para casados, que viven en un área urbana, que tienen electricidad y que poseen un televisor.\n",
    "\n",
    "También se incluye un modelo de regresión lineal, con los errores estándar de OLS habituales."
   ]
  },
  {
   "cell_type": "markdown",
   "metadata": {},
   "source": [
    "## 2. Análisis descriptivo"
   ]
  },
  {
   "cell_type": "code",
   "execution_count": 3,
   "metadata": {},
   "outputs": [],
   "source": [
    "#\n",
    "fertil_df = fertil_df[['children' ,'educ', 'age', 'agesq', 'evermarr', 'urban', 'electric', 'tv']].dropna()"
   ]
  },
  {
   "cell_type": "code",
   "execution_count": 4,
   "metadata": {},
   "outputs": [
    {
     "data": {
      "text/plain": [
       "(13, 0)"
      ]
     },
     "execution_count": 4,
     "metadata": {},
     "output_type": "execute_result"
    }
   ],
   "source": [
    "#\n",
    "fertil_df.children.max(), fertil_df.children.min()"
   ]
  },
  {
   "cell_type": "code",
   "execution_count": 5,
   "metadata": {},
   "outputs": [
    {
     "data": {
      "image/png": "[encoded data removed]",
      "text/plain": [
       "<Figure size 432x288 with 1 Axes>"
      ]
     },
     "metadata": {
      "needs_background": "light"
     },
     "output_type": "display_data"
    }
   ],
   "source": [
    "# plotting histogram in order to see\n",
    "plt.hist(fertil_df.children, bins = 14, histtype = 'bar')\n",
    "\n",
    "#plt.legend()\n",
    "plt.ylabel('Count of Children')\n",
    "plt.title('Histogram number of living children')\n",
    "\n",
    "plt.show()"
   ]
  },
  {
   "cell_type": "code",
   "execution_count": 6,
   "metadata": {},
   "outputs": [
    {
     "data": {
      "image/png": "[encoded data removed]",
      "text/plain": [
       "<Figure size 432x288 with 1 Axes>"
      ]
     },
     "metadata": {
      "needs_background": "light"
     },
     "output_type": "display_data"
    }
   ],
   "source": [
    "# Scatter Plot 1:\n",
    "# Getting x and y values\n",
    "x_values = fertil_df['age']\n",
    "y_values = fertil_df['children']\n",
    "\n",
    "# Plot scatter plot\n",
    "plt.scatter(x_values, y_values, marker = 'o')\n",
    "#plt.grid()\n",
    "\n",
    "plt.title('Relación entre número de hijos y edad de la madre')\n",
    "plt.xlabel('Edad en años')\n",
    "plt.ylabel('Número de hijos')\n",
    "\n",
    "# Save the Figure\n",
    "#plt.savefig(\"Fig1.png\")\n",
    "\n",
    "# Show plot\n",
    "plt.show()"
   ]
  },
  {
   "cell_type": "code",
   "execution_count": 7,
   "metadata": {},
   "outputs": [
    {
     "data": {
      "image/png": "[encoded data removed]",
      "text/plain": [
       "<Figure size 432x288 with 1 Axes>"
      ]
     },
     "metadata": {
      "needs_background": "light"
     },
     "output_type": "display_data"
    }
   ],
   "source": [
    "# Scatter Plot 2:\n",
    "# Getting x and y values\n",
    "x_values = fertil_df['educ']\n",
    "y_values = fertil_df['children']\n",
    "\n",
    "# Plot scatter plot\n",
    "plt.scatter(x_values, y_values, marker = 'o')\n",
    "#plt.grid()\n",
    "\n",
    "plt.title('Relación entre número de hijos y educación de la madre')\n",
    "plt.xlabel('Años de educación')\n",
    "plt.ylabel('Número de hijos')\n",
    "\n",
    "# Save the Figure\n",
    "#plt.savefig(\"Fig2.png\")\n",
    "\n",
    "# Show plot\n",
    "plt.show()"
   ]
  },
  {
   "cell_type": "markdown",
   "metadata": {},
   "source": [
    "## 3. Estimación"
   ]
  },
  {
   "cell_type": "code",
   "execution_count": 8,
   "metadata": {},
   "outputs": [],
   "source": [
    "# Definición de variables:\n",
    "Y = fertil_df['children']\n",
    "X = fertil_df[['educ', 'age', 'agesq', 'evermarr', 'urban', 'electric', 'tv']]\n",
    "X = sm.add_constant(X)"
   ]
  },
  {
   "cell_type": "code",
   "execution_count": 9,
   "metadata": {},
   "outputs": [
    {
     "name": "stdout",
     "output_type": "stream",
     "text": [
      "                            OLS Regression Results                            \n",
      "==============================================================================\n",
      "Dep. Variable:               children   R-squared:                       0.590\n",
      "Model:                            OLS   Adj. R-squared:                  0.589\n",
      "Method:                 Least Squares   F-statistic:                     893.9\n",
      "Date:                Wed, 26 Apr 2023   Prob (F-statistic):               0.00\n",
      "Time:                        08:08:31   Log-Likelihood:                -7720.2\n",
      "No. Observations:                4358   AIC:                         1.546e+04\n",
      "Df Residuals:                    4350   BIC:                         1.551e+04\n",
      "Df Model:                           7                                         \n",
      "Covariance Type:            nonrobust                                         \n",
      "==============================================================================\n",
      "                 coef    std err          t      P>|t|      [0.025      0.975]\n",
      "------------------------------------------------------------------------------\n",
      "const         -3.3938      0.245    -13.878      0.000      -3.873      -2.914\n",
      "educ          -0.0644      0.006    -10.191      0.000      -0.077      -0.052\n",
      "age            0.2725      0.017     16.010      0.000       0.239       0.306\n",
      "agesq         -0.0019      0.000     -6.960      0.000      -0.002      -0.001\n",
      "evermarr       0.6823      0.052     13.079      0.000       0.580       0.785\n",
      "urban         -0.2279      0.046     -4.969      0.000      -0.318      -0.138\n",
      "electric      -0.2617      0.076     -3.450      0.001      -0.410      -0.113\n",
      "tv            -0.2500      0.090     -2.773      0.006      -0.427      -0.073\n",
      "==============================================================================\n",
      "Omnibus:                      212.211   Durbin-Watson:                   1.886\n",
      "Prob(Omnibus):                  0.000   Jarque-Bera (JB):              772.538\n",
      "Skew:                          -0.020   Prob(JB):                    1.76e-168\n",
      "Kurtosis:                       5.062   Cond. No.                     1.12e+04\n",
      "==============================================================================\n",
      "\n",
      "Notes:\n",
      "[1] Standard Errors assume that the covariance matrix of the errors is correctly specified.\n",
      "[2] The condition number is large, 1.12e+04. This might indicate that there are\n",
      "strong multicollinearity or other numerical problems.\n"
     ]
    }
   ],
   "source": [
    "# OLS:\n",
    "Model_OLS = sm.OLS(Y, X)\n",
    "Model_OLS_res = Model_OLS.fit()\n",
    "print(Model_OLS_res.summary())"
   ]
  },
  {
   "cell_type": "code",
   "execution_count": 10,
   "metadata": {},
   "outputs": [
    {
     "name": "stdout",
     "output_type": "stream",
     "text": [
      "Optimization terminated successfully.\n",
      "         Current function value: 1.490835\n",
      "         Iterations 7\n",
      "                          Poisson Regression Results                          \n",
      "==============================================================================\n",
      "Dep. Variable:               children   No. Observations:                 4358\n",
      "Model:                        Poisson   Df Residuals:                     4350\n",
      "Method:                           MLE   Df Model:                            7\n",
      "Date:                Wed, 26 Apr 2023   Pseudo R-squ.:                  0.3219\n",
      "Time:                        08:10:22   Log-Likelihood:                -6497.1\n",
      "converged:                       True   LL-Null:                       -9580.7\n",
      "Covariance Type:            nonrobust   LLR p-value:                     0.000\n",
      "==============================================================================\n",
      "                 coef    std err          z      P>|z|      [0.025      0.975]\n",
      "------------------------------------------------------------------------------\n",
      "const         -5.3748      0.163    -33.001      0.000      -5.694      -5.056\n",
      "educ          -0.0217      0.003     -7.437      0.000      -0.027      -0.016\n",
      "age            0.3373      0.010     33.949      0.000       0.318       0.357\n",
      "agesq         -0.0041      0.000    -28.331      0.000      -0.004      -0.004\n",
      "evermarr       0.3148      0.024     12.875      0.000       0.267       0.363\n",
      "urban         -0.0861      0.022     -3.975      0.000      -0.128      -0.044\n",
      "electric      -0.1205      0.039     -3.103      0.002      -0.197      -0.044\n",
      "tv            -0.1447      0.047     -3.054      0.002      -0.238      -0.052\n",
      "==============================================================================\n"
     ]
    }
   ],
   "source": [
    "# Poisson:\n",
    "poisson_mod = sm.Poisson(Y, X)\n",
    "poisson_res = poisson_mod.fit()\n",
    "print(poisson_res.summary())"
   ]
  },
  {
   "cell_type": "code",
   "execution_count": 11,
   "metadata": {},
   "outputs": [
    {
     "name": "stdout",
     "output_type": "stream",
     "text": [
      "Table 1 - Comparative OLS and Poisson Regressions\n",
      "=======================================\n",
      "               Model OLS  Model Poisson\n",
      "---------------------------------------\n",
      "const          -3.3938*** -5.3748***   \n",
      "               (0.2445)   (0.1629)     \n",
      "educ           -0.0644*** -0.0217***   \n",
      "               (0.0063)   (0.0029)     \n",
      "age            0.2725***  0.3373***    \n",
      "               (0.0170)   (0.0099)     \n",
      "agesq          -0.0019*** -0.0041***   \n",
      "               (0.0003)   (0.0001)     \n",
      "evermarr       0.6823***  0.3148***    \n",
      "               (0.0522)   (0.0244)     \n",
      "urban          -0.2279*** -0.0861***   \n",
      "               (0.0459)   (0.0216)     \n",
      "electric       -0.2617*** -0.1205***   \n",
      "               (0.0759)   (0.0388)     \n",
      "tv             -0.2500*** -0.1447***   \n",
      "               (0.0901)   (0.0474)     \n",
      "R-squared      0.5899                  \n",
      "R-squared Adj. 0.5892                  \n",
      "=======================================\n",
      "Standard errors in parentheses.\n",
      "* p<.1, ** p<.05, ***p<.01\n"
     ]
    }
   ],
   "source": [
    "# Resultados:\n",
    "results_table = summary_col(results = [Model_OLS_res, poisson_res],\n",
    "                            float_format = '%0.4f',\n",
    "                            stars = True,\n",
    "                            model_names = ['Model OLS',\n",
    "                                          'Model Poisson'],\n",
    "                            regressor_order = ['const',\n",
    "                                             'educ', \n",
    "                                             'age', \n",
    "                                             'agesq', \n",
    "                                             'evermarr', \n",
    "                                             'urban', \n",
    "                                             'electric', \n",
    "                                             'tv'])\n",
    "\n",
    "results_table.add_title('Table 1 - Comparative OLS and Poisson Regressions')\n",
    "\n",
    "print(results_table)"
   ]
  },
  {
   "cell_type": "code",
   "execution_count": 12,
   "metadata": {},
   "outputs": [],
   "source": [
    "# Mean matrix values:\n",
    "X_mean = pd.DataFrame(fertil_df[['educ', 'age', 'agesq', 'evermarr', 'urban', 'electric', 'tv']].mean()).T\n",
    "X_mean['const'] = 1\n",
    "X_mean = X_mean[['const', 'educ', 'age', 'agesq', 'evermarr', 'urban', 'electric', 'tv']]"
   ]
  },
  {
   "cell_type": "code",
   "execution_count": 13,
   "metadata": {},
   "outputs": [
    {
     "data": {
      "text/plain": [
       "0    2.267554\n",
       "dtype: float64"
      ]
     },
     "execution_count": 13,
     "metadata": {},
     "output_type": "execute_result"
    }
   ],
   "source": [
    "# Predicted values OLS\n",
    "Model_OLS_res.predict(X_mean)"
   ]
  },
  {
   "cell_type": "code",
   "execution_count": 14,
   "metadata": {},
   "outputs": [
    {
     "data": {
      "text/plain": [
       "0    1.516405\n",
       "dtype: float64"
      ]
     },
     "execution_count": 14,
     "metadata": {},
     "output_type": "execute_result"
    }
   ],
   "source": [
    "# Predicted values Poisson\n",
    "poisson_res.predict(X_mean)"
   ]
  },
  {
   "cell_type": "code",
   "execution_count": 15,
   "metadata": {},
   "outputs": [
    {
     "name": "stdout",
     "output_type": "stream",
     "text": [
      "       Poisson Marginal Effects      \n",
      "=====================================\n",
      "Dep. Variable:               children\n",
      "Method:                          dydx\n",
      "At:                           overall\n",
      "==============================================================================\n",
      "                dy/dx    std err          z      P>|z|      [0.025      0.975]\n",
      "------------------------------------------------------------------------------\n",
      "educ          -0.0491      0.007     -7.416      0.000      -0.062      -0.036\n",
      "age            0.7649      0.024     32.127      0.000       0.718       0.812\n",
      "agesq         -0.0093      0.000    -27.246      0.000      -0.010      -0.009\n",
      "evermarr       0.7137      0.056     12.768      0.000       0.604       0.823\n",
      "urban         -0.1951      0.049     -3.972      0.000      -0.291      -0.099\n",
      "electric      -0.2733      0.088     -3.102      0.002      -0.446      -0.101\n",
      "tv            -0.3281      0.108     -3.052      0.002      -0.539      -0.117\n",
      "==============================================================================\n"
     ]
    }
   ],
   "source": [
    "poisson_margeff = poisson_res.get_margeff()\n",
    "print(poisson_margeff.summary())"
   ]
  },
  {
   "cell_type": "code",
   "execution_count": null,
   "metadata": {},
   "outputs": [],
   "source": []
  }
 ],
 "metadata": {
  "kernelspec": {
   "display_name": "Python 3 (ipykernel)",
   "language": "python",
   "name": "python3"
  },
  "language_info": {
   "codemirror_mode": {
    "name": "ipython",
    "version": 3
   },
   "file_extension": ".py",
   "mimetype": "text/x-python",
   "name": "python",
   "nbconvert_exporter": "python",
   "pygments_lexer": "ipython3",
   "version": "3.10.4"
  }
 },
 "nbformat": 4,
 "nbformat_minor": 2
}
