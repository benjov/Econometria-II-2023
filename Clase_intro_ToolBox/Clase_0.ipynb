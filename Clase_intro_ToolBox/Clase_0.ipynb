{
 "cells": [
  {
   "cell_type": "markdown",
   "metadata": {},
   "source": [
    "# Clase 0: Introducción a Python con Jupyter Notebook\n",
    "\n",
    "by Benjamín Oliva & Omar Alfaro"
   ]
  },
  {
   "cell_type": "markdown",
   "metadata": {},
   "source": [
    "## Opciones para tomar este curso "
   ]
  },
  {
   "cell_type": "markdown",
   "metadata": {},
   "source": [
    "Como se ha discutido previamente, para fines de este curso centraremos nuestros ejemplos prácticos en el uso de _python_. Actualemnte existen diferentes y muy variados ambientes de trabajo para utilizar _notebooks_, nuestra recomendación se centra en el uso de _anaconda_ y/o _google colab_. Sin embargo, si el alumno conoce previamente otro framework en el cual se sienta más cómodo trabajando, es libre de utilizarlo; tomando en cuenta que los trabajos finales idealmente serán entregados en notebooks de python. En caso de  preferir anaconda es necesario utilizar [este manual](https://drive.google.com/file/d/1TSaPYLA-x5olHz27CB8gY6mqtpqzoaP5/view?usp=sharing) donde se explica paso a paso como instalar. "
   ]
  },
  {
   "cell_type": "markdown",
   "metadata": {},
   "source": [
    "### I. Muy breve introducción a __Google Colab__"
   ]
  },
  {
   "cell_type": "markdown",
   "metadata": {},
   "source": [
    "Colab nos permite trabajar compilar código de _python_ sin la necesidad de realizar instalaciones en el entorno local de la máquina. Es suficiente contar con una cuenta de google y usar esta misma para trabajar en nuestros notebooks. Es recomendable esta opción cuando la computadora personal se pudiera ver limitada por sus capacidades de cálculo. Aparte, tiene la bondad de alojar los notebooks de trabajo en la cuenta de Google Drive personal."
   ]
  },
  {
   "cell_type": "markdown",
   "metadata": {},
   "source": [
    "Para visualizar los notebooks en colab, basta con seguir estos pasos: \n",
    "\n",
    "1.- Agregar [esta extensión](https://chrome.google.com/webstore/detail/open-in-colab/iogfkhleblhcpcekbiedikdehleodpjo)\n",
    "\n",
    "2.- Abrir el notebook en el [github del curso](https://github.com/benjov/Econometria-II-2023)\n",
    "\n",
    "3- Click en la extensión Open in Colab \n",
    "\n",
    "Otra opción es \n",
    "\n",
    "1.- Abrir [colab](https://colab.research.google.com/)\n",
    "\n",
    "2.- Selecccionar Github\n",
    "\n",
    "3.- Pegar la liga del curso y seleccionar la clase en que estaremos trabajando"
   ]
  },
  {
   "cell_type": "markdown",
   "metadata": {},
   "source": [
    "### II. Muy breve introducción a git y github \n",
    "\n",
    "Git es un sistema de control de versiones, lo cual en programación es de gran utilidad ya que nos permite guardar la historia de completa de un archivo y poder regresar a una version anterior en el momento que lo necesitemos. Github es la posibilidad de conectar al mundo nuestros proyectos y facilitar el trabajo colaborativo mediante la sintaxis de Git. "
   ]
  },
  {
   "cell_type": "markdown",
   "metadata": {},
   "source": [
    "Para los usuarios de Windows es necesario descargar e instalar *[Git](https://git-scm.com/downloads)*. En caso de que utilicen mac es necesario abrir la terminal (\"Control + Option + Shift + T”) y escribir \"*git --version*\"\n"
   ]
  },
  {
   "cell_type": "markdown",
   "metadata": {},
   "source": [
    "![Languages](git_flow.png)"
   ]
  },
  {
   "cell_type": "markdown",
   "metadata": {},
   "source": [
    "#### Comandos básicos en la terminal "
   ]
  },
  {
   "cell_type": "markdown",
   "metadata": {},
   "source": [
    "* pwd (nos señala la ruta actual de trabajo)\n",
    "* clear (borra el historial de comandos)\n",
    "* ls (list files) \n",
    "* cd (change directory)\n",
    "* mkdir (crea una carpeta con el nombre que se indique) \n",
    "* rm (Borra archivos)"
   ]
  },
  {
   "cell_type": "markdown",
   "metadata": {},
   "source": [
    "#### Comandos básicos en Git "
   ]
  },
  {
   "cell_type": "markdown",
   "metadata": {},
   "source": [
    "* git config --global user.name \"Pongan su nombre\" <- comando para cambiar el nombre \n",
    "* git config --global user.email \"Pongan su correo\" <- comando para poner el correo electrónico de una cuenta de github\n"
   ]
  },
  {
   "cell_type": "markdown",
   "metadata": {},
   "source": [
    "#### Haciendo una copia local del repositorio de la clase "
   ]
  },
  {
   "cell_type": "markdown",
   "metadata": {},
   "source": [
    "* Paso 1: abrir la terminal o git bash \n",
    "* Paso 2: con _cd_ ir a la carpeta en que queremos copiar el repo de la clase\n",
    "* Paso 3: _git clone_ https://github.com/benjov/Econometria-II-2022"
   ]
  },
  {
   "cell_type": "markdown",
   "metadata": {},
   "source": [
    "#### Actualizando el repositorio de la clase"
   ]
  },
  {
   "cell_type": "markdown",
   "metadata": {},
   "source": [
    "* Paso 1: abrir la terminal o git bash \n",
    "* Paso 2: con _cd_ ir a la carpeta donde se encuentra el repo clonado \n",
    "* Paso 3: _git pull origin master_"
   ]
  },
  {
   "cell_type": "markdown",
   "metadata": {},
   "source": [
    "## 1.- Motivación: ¿Por qué aprender python? "
   ]
  },
  {
   "cell_type": "markdown",
   "metadata": {},
   "source": [
    "![Languages](Languages_Stackoverflow.jpg)"
   ]
  },
  {
   "cell_type": "markdown",
   "metadata": {},
   "source": [
    "![Popularity](languages.png)"
   ]
  },
  {
   "cell_type": "markdown",
   "metadata": {},
   "source": [
    "### Cómo las grandes empresas utilizan Python\n",
    "\n",
    "Una buena parte de las posibilidades de trabajo con __python__ se concentran en desarrollo de *IOT*, *IA*, *Backend* y *Data Science*.\n",
    "\n",
    "* [Netflix](https://netflixtechblog.com/python-at-netflix-86b6028b3b3e)\n",
    "* [Uber](https://eng.uber.com/tech-stack-part-one-foundation/)\n",
    "* [Spotify](https://engineering.atspotify.com/2013/03/how-we-use-python-at-spotify/)\n",
    "* [Instagram](https://instagram-engineering.com/web-service-efficiency-at-instagram-with-python-4976d078e366)"
   ]
  },
  {
   "cell_type": "markdown",
   "metadata": {},
   "source": [
    "### Historia de python \n",
    "\n",
    "http://python-history.blogspot.com/2009/01/brief-timeline-of-python.html"
   ]
  },
  {
   "cell_type": "markdown",
   "metadata": {},
   "source": [
    "## 2.- Introducción a la programación con python "
   ]
  },
  {
   "cell_type": "code",
   "execution_count": 1,
   "metadata": {},
   "outputs": [
    {
     "name": "stdout",
     "output_type": "stream",
     "text": [
      "Hello world!\n"
     ]
    }
   ],
   "source": [
    "print(\"Hello world!\")"
   ]
  },
  {
   "cell_type": "markdown",
   "metadata": {},
   "source": [
    "### Semántica y Sintaxys "
   ]
  },
  {
   "cell_type": "markdown",
   "metadata": {},
   "source": [
    "Los lenguajes de programación contienen ciertas palabras \"clave\" que son fundamentales para escribir instrucciones\n",
    " - and                      - del                    - global                - not                     - with\n",
    " - as                       - elif                   - if                    - or                      - yield\n",
    " - asser                    - else                   - import                - pass                    - False\n",
    " - break                    - except                 - in                    - raise                   - True\n",
    " - class                    - finally                - is                    - return                  - None\n",
    " - continue                 - for                    - lambda                - try \n",
    " - def                      - from                   - nonlocal              - while"
   ]
  },
  {
   "cell_type": "markdown",
   "metadata": {},
   "source": [
    "Por otro lado también existen las funciones\n",
    "\n",
    "- abs()                     - delattr()              - hash()                - memoryview()            - set()\n",
    "\n",
    "- all()                     - dict()                 - help()                - min()                   - setattr()\n",
    "\n",
    "- any()                     - dir()                  - hex()                 - next()                  - slice()\n",
    "\n",
    "- ascii()                   - divmod()               - id()                  - object()                - sorted()\n",
    "\n",
    "- bin()                     - enumerate()            - input()               - oct()                   - staticmethod()\n",
    "\n",
    "- bool()                    - eval()                 - int()                 - open()                  - str()\n",
    "\n",
    "- breakpoint()              - exec()                 - isinstance()          - ord()                   - sum()\n",
    "\n",
    "- bytearray()               - filter()               - issubclass()          - pow()                   - super()\n",
    "\n",
    "- bytes()                   - float()                - iter()                - print()                 - tuple()\n",
    "\n",
    "- callable()                - format()               - len()                 - property()              - type()\n",
    "\n",
    "- chr()                     - frozenset()            - list()                - range()                 - vars()\n",
    "\n",
    "- classmethod()             - getattr()              - locals()              - repr()                  - zip()\n",
    "\n",
    "- compile()                 - globals()              - map()                 - reversed()              - _ _import_ _()\n",
    "\n",
    "- complex()                  - hasattr()             - max()                 - round()\n",
    "\n"
   ]
  },
  {
   "cell_type": "markdown",
   "metadata": {},
   "source": [
    "La combinación _correcta_ de funciones y de palabras clave construyen la lista de instrucciones que queremos que se realicen. Es también importante considerar que Python es _\"sensitive case\"_, lo que significa que en cualquier parte del código la diferenciación entre minusculas y mayúsculas es fundamental. "
   ]
  },
  {
   "cell_type": "markdown",
   "metadata": {},
   "source": [
    "### Operadores matemáticos"
   ]
  },
  {
   "cell_type": "markdown",
   "metadata": {},
   "source": [
    "* Suma y resta "
   ]
  },
  {
   "cell_type": "code",
   "execution_count": 2,
   "metadata": {},
   "outputs": [
    {
     "name": "stdout",
     "output_type": "stream",
     "text": [
      "8\n"
     ]
    }
   ],
   "source": [
    "print(5+5-2)"
   ]
  },
  {
   "cell_type": "markdown",
   "metadata": {},
   "source": [
    "* Multiplicación y división "
   ]
  },
  {
   "cell_type": "code",
   "execution_count": 3,
   "metadata": {},
   "outputs": [
    {
     "name": "stdout",
     "output_type": "stream",
     "text": [
      "28.0\n"
     ]
    }
   ],
   "source": [
    "print(7*8/2)"
   ]
  },
  {
   "cell_type": "markdown",
   "metadata": {},
   "source": [
    "* Potencia "
   ]
  },
  {
   "cell_type": "code",
   "execution_count": 1,
   "metadata": {},
   "outputs": [
    {
     "name": "stdout",
     "output_type": "stream",
     "text": [
      "55.90169943749474\n"
     ]
    }
   ],
   "source": [
    "print((5**5)**(1/2))"
   ]
  },
  {
   "cell_type": "markdown",
   "metadata": {},
   "source": [
    "* La parte entera de una división "
   ]
  },
  {
   "cell_type": "code",
   "execution_count": 5,
   "metadata": {},
   "outputs": [
    {
     "data": {
      "text/plain": [
       "101"
      ]
     },
     "execution_count": 5,
     "metadata": {},
     "output_type": "execute_result"
    }
   ],
   "source": [
    "509//5"
   ]
  },
  {
   "cell_type": "markdown",
   "metadata": {},
   "source": [
    "* La parte residual de una división "
   ]
  },
  {
   "cell_type": "code",
   "execution_count": 6,
   "metadata": {},
   "outputs": [
    {
     "data": {
      "text/plain": [
       "4"
      ]
     },
     "execution_count": 6,
     "metadata": {},
     "output_type": "execute_result"
    }
   ],
   "source": [
    "509%5"
   ]
  },
  {
   "cell_type": "markdown",
   "metadata": {},
   "source": [
    "### Operadores lógicos"
   ]
  },
  {
   "cell_type": "markdown",
   "metadata": {},
   "source": [
    "* Exactamente igual"
   ]
  },
  {
   "cell_type": "code",
   "execution_count": 4,
   "metadata": {},
   "outputs": [
    {
     "name": "stdout",
     "output_type": "stream",
     "text": [
      "False\n"
     ]
    }
   ],
   "source": [
    "print(4 == 4.5)"
   ]
  },
  {
   "cell_type": "markdown",
   "metadata": {},
   "source": [
    "* Distinto"
   ]
  },
  {
   "cell_type": "code",
   "execution_count": 8,
   "metadata": {},
   "outputs": [
    {
     "name": "stdout",
     "output_type": "stream",
     "text": [
      "True\n"
     ]
    }
   ],
   "source": [
    "print(4 != 4.5)"
   ]
  },
  {
   "cell_type": "markdown",
   "metadata": {},
   "source": [
    "* Mayor/menor o igual que"
   ]
  },
  {
   "cell_type": "code",
   "execution_count": 5,
   "metadata": {},
   "outputs": [
    {
     "name": "stdout",
     "output_type": "stream",
     "text": [
      "False\n"
     ]
    }
   ],
   "source": [
    "print(4 >= 4.5)"
   ]
  },
  {
   "cell_type": "markdown",
   "metadata": {},
   "source": [
    "* Menor/mayor que"
   ]
  },
  {
   "cell_type": "code",
   "execution_count": 4,
   "metadata": {},
   "outputs": [
    {
     "name": "stdout",
     "output_type": "stream",
     "text": [
      "False\n"
     ]
    }
   ],
   "source": [
    "print(4<4)"
   ]
  },
  {
   "cell_type": "markdown",
   "metadata": {},
   "source": [
    "* Union"
   ]
  },
  {
   "cell_type": "code",
   "execution_count": 6,
   "metadata": {},
   "outputs": [
    {
     "name": "stdout",
     "output_type": "stream",
     "text": [
      "True\n"
     ]
    }
   ],
   "source": [
    "print(\"Azul\"!=\"Verde\" or 2+2==5)"
   ]
  },
  {
   "cell_type": "markdown",
   "metadata": {},
   "source": [
    "* Interseccion"
   ]
  },
  {
   "cell_type": "code",
   "execution_count": 7,
   "metadata": {},
   "outputs": [
    {
     "name": "stdout",
     "output_type": "stream",
     "text": [
      "False\n"
     ]
    }
   ],
   "source": [
    "print(\"Azul\"!=\"Verde\" and 2+2==5)"
   ]
  },
  {
   "cell_type": "markdown",
   "metadata": {},
   "source": [
    "* Complemento"
   ]
  },
  {
   "cell_type": "code",
   "execution_count": 8,
   "metadata": {},
   "outputs": [
    {
     "name": "stdout",
     "output_type": "stream",
     "text": [
      "True\n"
     ]
    }
   ],
   "source": [
    "print(not 2+2==5)"
   ]
  },
  {
   "cell_type": "markdown",
   "metadata": {},
   "source": [
    "### Tipos de datos"
   ]
  },
  {
   "cell_type": "markdown",
   "metadata": {},
   "source": [
    "* String: cadenas de texto"
   ]
  },
  {
   "cell_type": "code",
   "execution_count": 5,
   "metadata": {},
   "outputs": [
    {
     "name": "stdout",
     "output_type": "stream",
     "text": [
      "123\n"
     ]
    },
    {
     "data": {
      "text/plain": [
       "str"
      ]
     },
     "execution_count": 5,
     "metadata": {},
     "output_type": "execute_result"
    }
   ],
   "source": [
    "a = \"123\"\n",
    "print(a)\n",
    "type(a)"
   ]
  },
  {
   "cell_type": "markdown",
   "metadata": {},
   "source": [
    "* Interger: numeros enteros"
   ]
  },
  {
   "cell_type": "code",
   "execution_count": 15,
   "metadata": {},
   "outputs": [
    {
     "name": "stdout",
     "output_type": "stream",
     "text": [
      "<class 'int'>\n"
     ]
    }
   ],
   "source": [
    "a = 450\n",
    "print(type(a))"
   ]
  },
  {
   "cell_type": "markdown",
   "metadata": {},
   "source": [
    "* Float: numeros decimales"
   ]
  },
  {
   "cell_type": "code",
   "execution_count": 16,
   "metadata": {},
   "outputs": [
    {
     "name": "stdout",
     "output_type": "stream",
     "text": [
      "<class 'float'>\n"
     ]
    }
   ],
   "source": [
    "a = 3.1416\n",
    "print(type(a))"
   ]
  },
  {
   "cell_type": "markdown",
   "metadata": {},
   "source": [
    "* Boolean: comunmente son los resultados de aplicar operadores logicos"
   ]
  },
  {
   "cell_type": "code",
   "execution_count": 2,
   "metadata": {},
   "outputs": [
    {
     "name": "stdout",
     "output_type": "stream",
     "text": [
      "True\n"
     ]
    },
    {
     "data": {
      "text/plain": [
       "bool"
      ]
     },
     "execution_count": 2,
     "metadata": {},
     "output_type": "execute_result"
    }
   ],
   "source": [
    "a = \"Python\" < \"python\"\n",
    "print(a)\n",
    "type(a)"
   ]
  },
  {
   "cell_type": "code",
   "execution_count": 13,
   "metadata": {},
   "outputs": [
    {
     "name": "stdout",
     "output_type": "stream",
     "text": [
      "13.75\n"
     ]
    }
   ],
   "source": [
    "print(c+d)"
   ]
  },
  {
   "cell_type": "code",
   "execution_count": 14,
   "metadata": {},
   "outputs": [
    {
     "name": "stdout",
     "output_type": "stream",
     "text": [
      "<class 'float'>\n"
     ]
    }
   ],
   "source": [
    "print(type(c+d))"
   ]
  },
  {
   "cell_type": "markdown",
   "metadata": {},
   "source": [
    "### Asignaciones "
   ]
  },
  {
   "cell_type": "markdown",
   "metadata": {},
   "source": [
    "Para asignar información a un objeto, utilizamos el operador que nos ayuda a hacer declaraciones _\"=\"_"
   ]
  },
  {
   "cell_type": "code",
   "execution_count": 15,
   "metadata": {},
   "outputs": [
    {
     "name": "stdout",
     "output_type": "stream",
     "text": [
      "Estoy asignando un string\n"
     ]
    }
   ],
   "source": [
    "a = \"Estoy asignando un string\"\n",
    "# variable = valor\n",
    "print(a)"
   ]
  },
  {
   "cell_type": "markdown",
   "metadata": {},
   "source": [
    " #### Algunas reglas para elegir el nombre de variables \n",
    " \n",
    " * No utilizar palabras clave o funciones que python ya tiene asignados \n",
    " * No usar espacios en los nombres de las variables\n",
    " * El nombre de las variables debe comenzar con una letra o con un guión bajo \"_\"\n",
    " "
   ]
  },
  {
   "cell_type": "code",
   "execution_count": 16,
   "metadata": {},
   "outputs": [],
   "source": [
    "VAR_PIB_2020 = -0.089"
   ]
  },
  {
   "cell_type": "code",
   "execution_count": 11,
   "metadata": {},
   "outputs": [],
   "source": [
    "_VAR_INPC = 0.032"
   ]
  },
  {
   "cell_type": "code",
   "execution_count": 13,
   "metadata": {},
   "outputs": [
    {
     "data": {
      "text/plain": [
       "0.032"
      ]
     },
     "execution_count": 13,
     "metadata": {},
     "output_type": "execute_result"
    }
   ],
   "source": [
    "_VAR_INPC"
   ]
  },
  {
   "cell_type": "markdown",
   "metadata": {},
   "source": [
    "### Tipos de secuencias"
   ]
  },
  {
   "cell_type": "markdown",
   "metadata": {},
   "source": [
    "Las secuencias son basicamente lo que nos permite agrupar datos dentro de una misma variable "
   ]
  },
  {
   "cell_type": "markdown",
   "metadata": {},
   "source": [
    "* Tupla: no modificable, puede contener distintos tipos de datos. Se generan poniendo conjuntos de datos entre paréntesis _'()'_"
   ]
  },
  {
   "cell_type": "code",
   "execution_count": 1,
   "metadata": {},
   "outputs": [
    {
     "data": {
      "text/plain": [
       "tuple"
      ]
     },
     "execution_count": 1,
     "metadata": {},
     "output_type": "execute_result"
    }
   ],
   "source": [
    " x = (10,\"miércoles\", 2021, \"marzo\")\n",
    "\n",
    " type(x)"
   ]
  },
  {
   "cell_type": "markdown",
   "metadata": {},
   "source": [
    "* Lista: a diferencia de las tupla, las listas pueden son modificables, esto quiere decir que se les puede agregar nuevos datos. Se generan poniendo conjutos de datos entre corchetes _'[]'_ o utlizando la función list(). "
   ]
  },
  {
   "cell_type": "code",
   "execution_count": 14,
   "metadata": {},
   "outputs": [
    {
     "data": {
      "text/plain": [
       "list"
      ]
     },
     "execution_count": 14,
     "metadata": {},
     "output_type": "execute_result"
    }
   ],
   "source": [
    "x = [22, \"miércoles\", 2022, \"febrero\"]\n",
    "\n",
    "type(x)"
   ]
  },
  {
   "cell_type": "code",
   "execution_count": 5,
   "metadata": {},
   "outputs": [
    {
     "data": {
      "text/plain": [
       "[22, 'miércoles', 2022, 'febrero', 'Econometría II']"
      ]
     },
     "execution_count": 5,
     "metadata": {},
     "output_type": "execute_result"
    }
   ],
   "source": [
    "x.append(\"Econometría II\") #sintaxys para agregar elementos \n",
    "\n",
    "x"
   ]
  },
  {
   "cell_type": "markdown",
   "metadata": {},
   "source": [
    "Los Corchetes son de gran ayuda para acceder a partes especificias de una lusta o tupla"
   ]
  },
  {
   "cell_type": "code",
   "execution_count": 15,
   "metadata": {},
   "outputs": [
    {
     "data": {
      "text/plain": [
       "22"
      ]
     },
     "execution_count": 15,
     "metadata": {},
     "output_type": "execute_result"
    }
   ],
   "source": [
    "x[0]"
   ]
  },
  {
   "cell_type": "markdown",
   "metadata": {},
   "source": [
    "Al utilizar la suma entre dos listas, el resultado es una lista que concatena ambas listas"
   ]
  },
  {
   "cell_type": "code",
   "execution_count": null,
   "metadata": {},
   "outputs": [
    {
     "data": {
      "text/plain": [
       "[1, 3, 5, 7, 11, 13, 5, 7]"
      ]
     },
     "metadata": {},
     "output_type": "display_data"
    }
   ],
   "source": [
    "[1,3,5,7,11,13] + [5,7]"
   ]
  },
  {
   "cell_type": "markdown",
   "metadata": {},
   "source": [
    "Al utilizar la multiplicación en una lista, el resultado es la repetición de _n_ veces esa lista"
   ]
  },
  {
   "cell_type": "code",
   "execution_count": null,
   "metadata": {},
   "outputs": [
    {
     "data": {
      "text/plain": [
       "[1, 3, 5, 7, 1, 3, 5, 7, 1, 3, 5, 7]"
      ]
     },
     "metadata": {},
     "output_type": "display_data"
    }
   ],
   "source": [
    "[1,3,5,7]*3"
   ]
  },
  {
   "cell_type": "markdown",
   "metadata": {},
   "source": [
    "* Diccionarios\n",
    "\n",
    "Los diccionarios son colecciones que contienen datos que se encuentran relacionados "
   ]
  },
  {
   "cell_type": "code",
   "execution_count": 8,
   "metadata": {},
   "outputs": [
    {
     "data": {
      "text/plain": [
       "{'Semana 1': 'Repaso parte 1',\n",
       " 'Semana 2': 'Repaso parte 2',\n",
       " 'Semana 3': 'Introducción a Python'}"
      ]
     },
     "execution_count": 8,
     "metadata": {},
     "output_type": "execute_result"
    }
   ],
   "source": [
    "Sesiones = {\"Semana 1\":\"Repaso parte 1\", \"Semana 2\":\"Repaso parte 2\", \"Semana 3\":\"Introducción a Python\" }\n",
    "\n",
    "Sesiones"
   ]
  },
  {
   "cell_type": "markdown",
   "metadata": {},
   "source": [
    "### Funciones, estructuras de control y librerias\n",
    "\n",
    "Las funciones y estructuras de control son elementos dentro de los lenguajes de programacion que nos ayudan a sistematizar tareas repetitivas o que constantemente usaremos. "
   ]
  },
  {
   "cell_type": "code",
   "execution_count": 2,
   "metadata": {},
   "outputs": [
    {
     "data": {
      "text/plain": [
       "11"
      ]
     },
     "execution_count": 2,
     "metadata": {},
     "output_type": "execute_result"
    }
   ],
   "source": [
    "lista = [1,2,3,4,5,6,7,8,9,10]\n",
    "\n",
    "max(lista)\n",
    "\n",
    "lista.__class__\n",
    "\n",
    "type(lista)\n",
    "\n",
    "lista.append(11)\n",
    "\n",
    "max(lista)\n"
   ]
  },
  {
   "cell_type": "markdown",
   "metadata": {},
   "source": [
    "En caso de que las funciones que vienen precargadas en python no sean suficiente, siempre existe la posibilidad de crear nuestras propias funciones"
   ]
  },
  {
   "cell_type": "code",
   "execution_count": 3,
   "metadata": {},
   "outputs": [
    {
     "name": "stdout",
     "output_type": "stream",
     "text": [
      "Hola, ¿cuál es tu nombre?Omar\n"
     ]
    },
    {
     "data": {
      "text/plain": [
       "'Buenos días, Omar. Espero que disfrutes este curso.'"
      ]
     },
     "execution_count": 3,
     "metadata": {},
     "output_type": "execute_result"
    }
   ],
   "source": [
    "def saludar_alumno():\n",
    "    alumno = input(\"Hola, ¿cuál es tu nombre?\")\n",
    "    mensaje = str (\"Buenos días, \" + str(alumno) + \". Espero que disfrutes este curso.\") \n",
    "    #Esto se conoce como \"identation\" (sangría)\n",
    "    return mensaje\n",
    "\n",
    "saludar_alumno()\n",
    "\n"
   ]
  },
  {
   "cell_type": "code",
   "execution_count": 1,
   "metadata": {},
   "outputs": [],
   "source": [
    "def pregunta_zoomestre():\n",
    "    respuesta = input(\"¿Crees que el formato a distancia es más complicado? (Sí/No)\")\n",
    "    respuesta = respuesta.upper()\n",
    "    respuesta = respuesta.replace(\"Í\", \"I\")\n",
    "    if respuesta == \"SI\":\n",
    "        msj = \"Nosotros también. Pero estamos para apoyarte e intentar que el semestre sea más tranquilo para todos\"\n",
    "    elif respuesta == \"NO\":\n",
    "        msj = \"¿En serio crees que no vas a extrañar las jacarandas?\"\n",
    "    else:\n",
    "        msj = \"Lo siento, no estabamos preparados para esa respuesta\"\n",
    "    return  msj\n",
    "    \n",
    "    "
   ]
  },
  {
   "cell_type": "code",
   "execution_count": null,
   "metadata": {},
   "outputs": [
    {
     "name": "stdout",
     "output_type": "stream",
     "text": [
      "¿Crees que el formato a distancia es más complicado? (Sí/No)no\n"
     ]
    },
    {
     "data": {
      "text/plain": [
       "'Lo siento, no estabamos preparados para esa respuesta'"
      ]
     },
     "execution_count": 21,
     "metadata": {},
     "output_type": "execute_result"
    }
   ],
   "source": [
    "pregunta_zoomestre()"
   ]
  },
  {
   "cell_type": "markdown",
   "metadata": {},
   "source": [
    "### Bucles"
   ]
  },
  {
   "cell_type": "markdown",
   "metadata": {},
   "source": [
    "* while"
   ]
  },
  {
   "cell_type": "code",
   "execution_count": null,
   "metadata": {},
   "outputs": [
    {
     "name": "stdout",
     "output_type": "stream",
     "text": [
      "10 es un número positivo \n",
      "9 es un número positivo \n",
      "8 es un número positivo \n",
      "7 es un número positivo \n",
      "6 es un número positivo \n",
      "5 es un número positivo \n",
      "4 es un número positivo \n",
      "3 es un número positivo \n",
      "2 es un número positivo \n",
      "1 es un número positivo \n"
     ]
    }
   ],
   "source": [
    "x = 10\n",
    "while x>0:\n",
    "    print(str(x) + \" es un número positivo \")\n",
    "    x=x-1\n",
    "    \n"
   ]
  },
  {
   "cell_type": "markdown",
   "metadata": {},
   "source": [
    "* for"
   ]
  },
  {
   "cell_type": "code",
   "execution_count": 4,
   "metadata": {},
   "outputs": [
    {
     "name": "stdout",
     "output_type": "stream",
     "text": [
      "0\n",
      "1\n",
      "4\n",
      "9\n",
      "16\n",
      "25\n",
      "36\n",
      "49\n",
      "64\n",
      "81\n"
     ]
    }
   ],
   "source": [
    "numbers = range(10)\n",
    "\n",
    "for num in numbers:\n",
    "    print(num**2)"
   ]
  },
  {
   "cell_type": "markdown",
   "metadata": {},
   "source": [
    "### Librerias"
   ]
  },
  {
   "cell_type": "markdown",
   "metadata": {},
   "source": [
    "Las librerias son basicamente un esfuerzo colectivo por evitar que nos esforcemos por solucionar o desarrollar cuestiones que se encuentran resueltas. Son fundamentales para ayudarnos a realizar nuestro cometido, en un medio colaborativo es muy probable (principalmente cuando se es principiante) que alguien ya haya solucionado un problema al que nosotros nos enfrentamos, y en este tipo de ambientes de softwere libre es muy común que se haya decidido compartirla solución con la comunidad. A continuacion algunas de las librerias primordiales para trabajar en python. "
   ]
  },
  {
   "cell_type": "markdown",
   "metadata": {},
   "source": [
    "#### _Numpy_ \n",
    "\n",
    "es una librería que nos permite realizar operaciones matemáticas de alto nivel y es de gran ayuda para realizar operaciones complejas de manera amable "
   ]
  },
  {
   "cell_type": "code",
   "execution_count": 2,
   "metadata": {},
   "outputs": [],
   "source": [
    "#! pip install numpy\n",
    "import numpy as np"
   ]
  },
  {
   "cell_type": "code",
   "execution_count": 6,
   "metadata": {},
   "outputs": [],
   "source": [
    "normal_dist = np.random.normal(2,1,100)"
   ]
  },
  {
   "cell_type": "code",
   "execution_count": 7,
   "metadata": {},
   "outputs": [
    {
     "name": "stderr",
     "output_type": "stream",
     "text": [
      "<ipython-input-7-c9d58de2378d>:1: RuntimeWarning: invalid value encountered in log\n",
      "  np.log(normal_dist)\n"
     ]
    },
    {
     "data": {
      "text/plain": [
       "array([ 1.21576795,  0.23764157,  0.90410703,  0.97713684,  0.62247294,\n",
       "        1.36437934, -0.0188224 ,  0.99152491,  1.28150363,  0.59820824,\n",
       "        0.70191618,  0.28973275,         nan,  1.51010377,  0.3978736 ,\n",
       "        1.06162348,  0.43489169, -0.21127711,  0.34126031,  0.79421165,\n",
       "               nan,  0.64005459,  0.68639014,  0.42874292,  1.04403241,\n",
       "        0.71921756, -0.37805684,  0.50517207,  0.69118241,  0.11728955,\n",
       "        0.98337163,  0.77244507,  1.02557375,  0.78309472,  0.56900128,\n",
       "        0.57968397,  0.24415737,  0.80581035,  1.28833766,  0.85031885,\n",
       "        1.40491647, -2.03267999, -0.43399161,  0.50338424,  0.94798876,\n",
       "        1.07503583,  1.31941942,  0.43453747,  1.00915631,  0.67008736,\n",
       "        0.77649473,  1.05245251,  0.70448019,  0.86623738,  0.82799596,\n",
       "       -0.23803913, -0.28545729,  1.23498946,  0.50172259,  0.6461544 ,\n",
       "        0.65519593,  1.17025693,  1.0899107 ,  0.78368347,  0.90973535,\n",
       "        0.58829461,  0.57772204,  0.95199714,  0.86143753,  0.1390854 ,\n",
       "        1.15488739,  0.65021607,  0.30126346,  0.86329237,  1.07981775,\n",
       "       -0.14874862,  0.85184162,  0.66826848,  0.53553081,  0.66908561,\n",
       "        0.9425223 ,  0.96530702,  0.84816492,  0.47905493,  0.20997246,\n",
       "        0.67497562,  0.33548772,  0.6818525 ,  1.13657908,         nan,\n",
       "       -1.42000315,  0.75600992,  0.62686211,  1.02782668,  0.98811374,\n",
       "        0.04911912,  0.97283393, -0.02514147,  0.83706502,  0.75402878])"
      ]
     },
     "execution_count": 7,
     "metadata": {},
     "output_type": "execute_result"
    }
   ],
   "source": [
    "np.log(normal_dist)"
   ]
  },
  {
   "cell_type": "markdown",
   "metadata": {},
   "source": [
    "##### Arrays\n",
    "Los array son un tipo de objeto que puede contener datos acomodados como lo que nosotros conocemos como matrices "
   ]
  },
  {
   "cell_type": "code",
   "execution_count": 8,
   "metadata": {},
   "outputs": [
    {
     "data": {
      "text/plain": [
       "array([1, 3, 5, 7])"
      ]
     },
     "execution_count": 8,
     "metadata": {},
     "output_type": "execute_result"
    }
   ],
   "source": [
    "lista = [1,3,5,7]\n",
    "x = np.array(lista)\n",
    "x "
   ]
  },
  {
   "cell_type": "markdown",
   "metadata": {},
   "source": [
    "#### Pandas\n",
    "Pandas es una extensión de numpy. Se trata de una de las librerías más utilizadas de python, dado el gran poder de manipulación de datos que permite en los objetos de tipo _data frame_."
   ]
  },
  {
   "cell_type": "code",
   "execution_count": 6,
   "metadata": {},
   "outputs": [],
   "source": [
    "import pandas as pd"
   ]
  },
  {
   "cell_type": "markdown",
   "metadata": {},
   "source": [
    "## 3.- Ejemplo práctico: Francis Galton y la regresión a la media "
   ]
  },
  {
   "cell_type": "markdown",
   "metadata": {},
   "source": [
    "“Cada peculiaridad en un hombre es compartida por sus descendientes, pero en media, en un\n",
    "grado menor.” \n",
    "\n",
    "$\\hat{Y} = \\hat{\\beta}_{0} + \\sum \\limits _{j=1} ^{p} X_{j}\\hat{\\beta}_{j}$\n",
    "\n",
    "Lectura de la base de datos "
   ]
  },
  {
   "cell_type": "code",
   "execution_count": 7,
   "metadata": {},
   "outputs": [
    {
     "data": {
      "text/html": [
       "<div>\n",
       "<style scoped>\n",
       "    .dataframe tbody tr th:only-of-type {\n",
       "        vertical-align: middle;\n",
       "    }\n",
       "\n",
       "    .dataframe tbody tr th {\n",
       "        vertical-align: top;\n",
       "    }\n",
       "\n",
       "    .dataframe thead th {\n",
       "        text-align: right;\n",
       "    }\n",
       "</style>\n",
       "<table border=\"1\" class=\"dataframe\">\n",
       "  <thead>\n",
       "    <tr style=\"text-align: right;\">\n",
       "      <th></th>\n",
       "      <th>Family</th>\n",
       "      <th>Father</th>\n",
       "      <th>Mother</th>\n",
       "      <th>Gender</th>\n",
       "      <th>Height</th>\n",
       "      <th>Kids</th>\n",
       "    </tr>\n",
       "  </thead>\n",
       "  <tbody>\n",
       "    <tr>\n",
       "      <th>0</th>\n",
       "      <td>1</td>\n",
       "      <td>78.5</td>\n",
       "      <td>67.0</td>\n",
       "      <td>M</td>\n",
       "      <td>73.2</td>\n",
       "      <td>4</td>\n",
       "    </tr>\n",
       "    <tr>\n",
       "      <th>1</th>\n",
       "      <td>1</td>\n",
       "      <td>78.5</td>\n",
       "      <td>67.0</td>\n",
       "      <td>F</td>\n",
       "      <td>69.2</td>\n",
       "      <td>4</td>\n",
       "    </tr>\n",
       "    <tr>\n",
       "      <th>2</th>\n",
       "      <td>1</td>\n",
       "      <td>78.5</td>\n",
       "      <td>67.0</td>\n",
       "      <td>F</td>\n",
       "      <td>69.0</td>\n",
       "      <td>4</td>\n",
       "    </tr>\n",
       "    <tr>\n",
       "      <th>3</th>\n",
       "      <td>1</td>\n",
       "      <td>78.5</td>\n",
       "      <td>67.0</td>\n",
       "      <td>F</td>\n",
       "      <td>69.0</td>\n",
       "      <td>4</td>\n",
       "    </tr>\n",
       "    <tr>\n",
       "      <th>4</th>\n",
       "      <td>2</td>\n",
       "      <td>75.5</td>\n",
       "      <td>66.5</td>\n",
       "      <td>M</td>\n",
       "      <td>73.5</td>\n",
       "      <td>4</td>\n",
       "    </tr>\n",
       "    <tr>\n",
       "      <th>5</th>\n",
       "      <td>2</td>\n",
       "      <td>75.5</td>\n",
       "      <td>66.5</td>\n",
       "      <td>M</td>\n",
       "      <td>72.5</td>\n",
       "      <td>4</td>\n",
       "    </tr>\n",
       "    <tr>\n",
       "      <th>6</th>\n",
       "      <td>2</td>\n",
       "      <td>75.5</td>\n",
       "      <td>66.5</td>\n",
       "      <td>F</td>\n",
       "      <td>65.5</td>\n",
       "      <td>4</td>\n",
       "    </tr>\n",
       "    <tr>\n",
       "      <th>7</th>\n",
       "      <td>2</td>\n",
       "      <td>75.5</td>\n",
       "      <td>66.5</td>\n",
       "      <td>F</td>\n",
       "      <td>65.5</td>\n",
       "      <td>4</td>\n",
       "    </tr>\n",
       "    <tr>\n",
       "      <th>8</th>\n",
       "      <td>3</td>\n",
       "      <td>75.0</td>\n",
       "      <td>64.0</td>\n",
       "      <td>M</td>\n",
       "      <td>71.0</td>\n",
       "      <td>2</td>\n",
       "    </tr>\n",
       "    <tr>\n",
       "      <th>9</th>\n",
       "      <td>3</td>\n",
       "      <td>75.0</td>\n",
       "      <td>64.0</td>\n",
       "      <td>F</td>\n",
       "      <td>68.0</td>\n",
       "      <td>2</td>\n",
       "    </tr>\n",
       "  </tbody>\n",
       "</table>\n",
       "</div>"
      ],
      "text/plain": [
       "  Family  Father  Mother Gender  Height  Kids\n",
       "0      1    78.5    67.0      M    73.2     4\n",
       "1      1    78.5    67.0      F    69.2     4\n",
       "2      1    78.5    67.0      F    69.0     4\n",
       "3      1    78.5    67.0      F    69.0     4\n",
       "4      2    75.5    66.5      M    73.5     4\n",
       "5      2    75.5    66.5      M    72.5     4\n",
       "6      2    75.5    66.5      F    65.5     4\n",
       "7      2    75.5    66.5      F    65.5     4\n",
       "8      3    75.0    64.0      M    71.0     2\n",
       "9      3    75.0    64.0      F    68.0     2"
      ]
     },
     "execution_count": 7,
     "metadata": {},
     "output_type": "execute_result"
    }
   ],
   "source": [
    "url = \"http://www.randomservices.org/random/data/Galton.txt\" \n",
    "df = pd.read_csv(url, sep=\"\\t\")\n",
    "df.head(n=10)"
   ]
  },
  {
   "cell_type": "code",
   "execution_count": 11,
   "metadata": {},
   "outputs": [
    {
     "data": {
      "text/plain": [
       "pandas.core.frame.DataFrame"
      ]
     },
     "execution_count": 11,
     "metadata": {},
     "output_type": "execute_result"
    }
   ],
   "source": [
    "type(df)"
   ]
  },
  {
   "cell_type": "markdown",
   "metadata": {},
   "source": [
    "Convertimos la altura de pulgadas a centimetros"
   ]
  },
  {
   "cell_type": "code",
   "execution_count": 8,
   "metadata": {},
   "outputs": [
    {
     "data": {
      "text/html": [
       "<div>\n",
       "<style scoped>\n",
       "    .dataframe tbody tr th:only-of-type {\n",
       "        vertical-align: middle;\n",
       "    }\n",
       "\n",
       "    .dataframe tbody tr th {\n",
       "        vertical-align: top;\n",
       "    }\n",
       "\n",
       "    .dataframe thead th {\n",
       "        text-align: right;\n",
       "    }\n",
       "</style>\n",
       "<table border=\"1\" class=\"dataframe\">\n",
       "  <thead>\n",
       "    <tr style=\"text-align: right;\">\n",
       "      <th></th>\n",
       "      <th>Family</th>\n",
       "      <th>Father</th>\n",
       "      <th>Mother</th>\n",
       "      <th>Gender</th>\n",
       "      <th>Height</th>\n",
       "      <th>Kids</th>\n",
       "    </tr>\n",
       "  </thead>\n",
       "  <tbody>\n",
       "    <tr>\n",
       "      <th>0</th>\n",
       "      <td>1</td>\n",
       "      <td>199.39</td>\n",
       "      <td>170.18</td>\n",
       "      <td>M</td>\n",
       "      <td>185.928</td>\n",
       "      <td>4</td>\n",
       "    </tr>\n",
       "    <tr>\n",
       "      <th>1</th>\n",
       "      <td>1</td>\n",
       "      <td>199.39</td>\n",
       "      <td>170.18</td>\n",
       "      <td>F</td>\n",
       "      <td>175.768</td>\n",
       "      <td>4</td>\n",
       "    </tr>\n",
       "    <tr>\n",
       "      <th>2</th>\n",
       "      <td>1</td>\n",
       "      <td>199.39</td>\n",
       "      <td>170.18</td>\n",
       "      <td>F</td>\n",
       "      <td>175.260</td>\n",
       "      <td>4</td>\n",
       "    </tr>\n",
       "    <tr>\n",
       "      <th>3</th>\n",
       "      <td>1</td>\n",
       "      <td>199.39</td>\n",
       "      <td>170.18</td>\n",
       "      <td>F</td>\n",
       "      <td>175.260</td>\n",
       "      <td>4</td>\n",
       "    </tr>\n",
       "    <tr>\n",
       "      <th>4</th>\n",
       "      <td>2</td>\n",
       "      <td>191.77</td>\n",
       "      <td>168.91</td>\n",
       "      <td>M</td>\n",
       "      <td>186.690</td>\n",
       "      <td>4</td>\n",
       "    </tr>\n",
       "  </tbody>\n",
       "</table>\n",
       "</div>"
      ],
      "text/plain": [
       "  Family  Father  Mother Gender   Height  Kids\n",
       "0      1  199.39  170.18      M  185.928     4\n",
       "1      1  199.39  170.18      F  175.768     4\n",
       "2      1  199.39  170.18      F  175.260     4\n",
       "3      1  199.39  170.18      F  175.260     4\n",
       "4      2  191.77  168.91      M  186.690     4"
      ]
     },
     "execution_count": 8,
     "metadata": {},
     "output_type": "execute_result"
    }
   ],
   "source": [
    "df[['Father', 'Mother', 'Height']] = df[['Father', 'Mother', 'Height']]*2.54\n",
    "df.head()"
   ]
  },
  {
   "cell_type": "markdown",
   "metadata": {},
   "source": [
    "### Matplotlib and seaborn\n",
    "\n",
    "_Matplotlib_ y _Seaborn_ son de las librerías más utilizadas para la visualización de datos"
   ]
  },
  {
   "cell_type": "code",
   "execution_count": 5,
   "metadata": {},
   "outputs": [],
   "source": [
    "import matplotlib.pyplot as plt \n",
    "plt.style.use('ggplot')\n",
    "import seaborn as sns "
   ]
  },
  {
   "cell_type": "code",
   "execution_count": 23,
   "metadata": {},
   "outputs": [
    {
     "data": {
      "text/plain": [
       "<seaborn.axisgrid.PairGrid at 0x1c0e7ffff70>"
      ]
     },
     "execution_count": 23,
     "metadata": {},
     "output_type": "execute_result"
    },
    {
     "data": {
      "image/png": "[encoded data removed]",
      "text/plain": [
       "<Figure size 764.875x720 with 20 Axes>"
      ]
     },
     "metadata": {},
     "output_type": "display_data"
    }
   ],
   "source": [
    "sns.pairplot(df, hue='Gender')"
   ]
  },
  {
   "cell_type": "code",
   "execution_count": 9,
   "metadata": {},
   "outputs": [],
   "source": [
    "X = np.array(df[[\"Father\", \"Mother\"]])\n",
    "Y = df[\"Height\"]"
   ]
  },
  {
   "cell_type": "code",
   "execution_count": 10,
   "metadata": {},
   "outputs": [
    {
     "data": {
      "text/plain": [
       "array([[  1.  , 199.39, 170.18],\n",
       "       [  1.  , 199.39, 170.18],\n",
       "       [  1.  , 199.39, 170.18],\n",
       "       ...,\n",
       "       [  1.  , 173.99, 165.1 ],\n",
       "       [  1.  , 173.99, 165.1 ],\n",
       "       [  1.  , 173.99, 165.1 ]])"
      ]
     },
     "execution_count": 10,
     "metadata": {},
     "output_type": "execute_result"
    }
   ],
   "source": [
    "Unos = np.ones(len(Y))\n",
    "X_m = np.array([Unos, X[:,0], X[:,1]]).T\n",
    "X_m"
   ]
  },
  {
   "cell_type": "markdown",
   "metadata": {},
   "source": [
    "Obtenermos los estimadores mediante la multiplicación de matrices\n",
    "\n",
    "$\\hat{\\beta} = (X^TX)^{-1}X^TY$"
   ]
  },
  {
   "cell_type": "code",
   "execution_count": 12,
   "metadata": {},
   "outputs": [],
   "source": [
    "beta_hat = np.linalg.inv(X_m.T.dot(X_m)).dot(X_m.T).dot(Y)"
   ]
  },
  {
   "cell_type": "code",
   "execution_count": 13,
   "metadata": {},
   "outputs": [
    {
     "data": {
      "text/plain": [
       "array([  152275.794     , 26792021.448108  , 24796247.37514801])"
      ]
     },
     "execution_count": 13,
     "metadata": {},
     "output_type": "execute_result"
    }
   ],
   "source": [
    "X_m.T.dot(Y)"
   ]
  },
  {
   "cell_type": "markdown",
   "metadata": {},
   "source": [
    "$\\hat{\\beta} = [\\hat{\\beta}_0, \\hat{\\beta}_1,\\hat{\\beta}_2]$ "
   ]
  },
  {
   "cell_type": "code",
   "execution_count": 16,
   "metadata": {},
   "outputs": [
    {
     "data": {
      "text/plain": [
       "array([22.30970549,  0.37989697,  0.28321451])"
      ]
     },
     "execution_count": 16,
     "metadata": {},
     "output_type": "execute_result"
    }
   ],
   "source": [
    "beta_hat"
   ]
  },
  {
   "cell_type": "markdown",
   "metadata": {},
   "source": [
    "$\\hat{Y}_i = \\hat{\\beta}_i*X_i+u_i$ "
   ]
  },
  {
   "cell_type": "code",
   "execution_count": 16,
   "metadata": {},
   "outputs": [
    {
     "data": {
      "text/plain": [
       "6.554586207130342e-09"
      ]
     },
     "execution_count": 16,
     "metadata": {},
     "output_type": "execute_result"
    }
   ],
   "source": [
    "y_hat = X_m.dot(beta_hat)\n",
    "e_hat = y_hat-Y \n",
    "e_hat.sum()"
   ]
  },
  {
   "cell_type": "markdown",
   "metadata": {},
   "source": [
    "$Var({\\hat\\beta})= \\sigma^2(X^TX)^{-1}$"
   ]
  },
  {
   "cell_type": "code",
   "execution_count": 17,
   "metadata": {},
   "outputs": [],
   "source": [
    "sigma_root = np.var(e_hat)\n",
    "sigma_m = sigma_root*np.eye(3)"
   ]
  },
  {
   "cell_type": "code",
   "execution_count": 19,
   "metadata": {},
   "outputs": [
    {
     "data": {
      "text/plain": [
       "array([[ 1.19273251e+02, -3.42157473e-01, -3.62601691e-01],\n",
       "       [-3.42157473e-01,  2.09896669e-03, -1.65559473e-04],\n",
       "       [-3.62601691e-01, -1.65559473e-04,  2.40649366e-03]])"
      ]
     },
     "execution_count": 19,
     "metadata": {},
     "output_type": "execute_result"
    }
   ],
   "source": [
    "(sigma_m@np.linalg.inv(X_m.T.dot(X_m)))**0.5"
   ]
  },
  {
   "cell_type": "markdown",
   "metadata": {},
   "source": [
    "### MCO con la librería statsmodel"
   ]
  },
  {
   "cell_type": "code",
   "execution_count": 22,
   "metadata": {},
   "outputs": [
    {
     "name": "stdout",
     "output_type": "stream",
     "text": [
      "                            OLS Regression Results                            \n",
      "==============================================================================\n",
      "Dep. Variable:                 Height   R-squared:                       0.109\n",
      "Model:                            OLS   Adj. R-squared:                  0.107\n",
      "Method:                 Least Squares   F-statistic:                     54.69\n",
      "Date:                Mon, 28 Feb 2022   Prob (F-statistic):           3.92e-23\n",
      "Time:                        08:49:26   Log-Likelihood:                -2367.9\n",
      "No. Observations:                 898   AIC:                             4742.\n",
      "Df Residuals:                     895   BIC:                             4756.\n",
      "Df Model:                           2                                         \n",
      "Covariance Type:            nonrobust                                         \n",
      "==============================================================================\n",
      "                 coef    std err          t      P>|t|      [0.025      0.975]\n",
      "------------------------------------------------------------------------------\n",
      "const         22.3097      4.307      5.180      0.000      13.857      30.762\n",
      "x1             0.3799      0.046      8.278      0.000       0.290       0.470\n",
      "x2             0.2832      0.049      5.764      0.000       0.187       0.380\n",
      "==============================================================================\n",
      "Omnibus:                       45.142   Durbin-Watson:                   1.388\n",
      "Prob(Omnibus):                  0.000   Jarque-Bera (JB):               18.794\n",
      "Skew:                           0.066   Prob(JB):                     8.30e-05\n",
      "Kurtosis:                       2.304   Cond. No.                     3.60e+03\n",
      "==============================================================================\n",
      "\n",
      "Notes:\n",
      "[1] Standard Errors assume that the covariance matrix of the errors is correctly specified.\n",
      "[2] The condition number is large, 3.6e+03. This might indicate that there are\n",
      "strong multicollinearity or other numerical problems.\n"
     ]
    }
   ],
   "source": [
    "### MCO con la librería statsmodel\n",
    "import statsmodels.api as sm\n",
    "\n",
    "X_m = sm.add_constant(X)\n",
    "\n",
    "estimacion = sm.OLS(Y,X_m)\n",
    "est2 = estimacion.fit()\n",
    "print(est2.summary())"
   ]
  },
  {
   "cell_type": "code",
   "execution_count": 38,
   "metadata": {},
   "outputs": [
    {
     "data": {
      "text/plain": [
       "<seaborn.axisgrid.JointGrid at 0x1c0ecae5df0>"
      ]
     },
     "execution_count": 38,
     "metadata": {},
     "output_type": "execute_result"
    },
    {
     "data": {
      "image/png": "[encoded data removed]",
      "text/plain": [
       "<Figure size 432x432 with 3 Axes>"
      ]
     },
     "metadata": {},
     "output_type": "display_data"
    },
    {
     "data": {
      "image/png": "[encoded data removed]",
      "text/plain": [
       "<Figure size 432x432 with 3 Axes>"
      ]
     },
     "metadata": {},
     "output_type": "display_data"
    }
   ],
   "source": [
    "sns.jointplot(x=\"Mother\", y=\"Height\", data=df, kind='reg')\n",
    "sns.jointplot(x=\"Father\", y=\"Height\", data=df, kind='reg')"
   ]
  },
  {
   "cell_type": "markdown",
   "metadata": {},
   "source": [
    "## 4.- Resumen de la sesión"
   ]
  },
  {
   "cell_type": "markdown",
   "metadata": {},
   "source": [
    "* Revisamos como clonar el repo de la clase y el modo en que lo pueden actualizar cada que sea necesario así como la manera en que podemos seguir el curso sin necesidad de instalar programas en la computadora personal.\n",
    "* Motivos importantes para aprender python y aplicaciones principales\n",
    "* Algunos de los elementos más básicos de python \n",
    "    - Operadores matemáticos y lógicos\n",
    "    - Tipos de objetos y asignaciones\n",
    "    - Tipos de secuencias de datos\n",
    "    - Funciones, estructuras de control y librerías \n",
    "* Ejemplo práctico para llegar a la solución de mínimos cuadrados ordinarios con la librería numpy y statsmodels"
   ]
  },
  {
   "cell_type": "markdown",
   "metadata": {},
   "source": [
    "## 5.- Recursos para aprender Python "
   ]
  },
  {
   "cell_type": "markdown",
   "metadata": {},
   "source": [
    "### Cursos\n",
    "\n",
    "* Python for Everybody (Coursera & Michigan)\n",
    "* Statistics with Python (Coursera & Michigan)\n",
    "* Python for Data Science (Coursera & Michigan)\n",
    "* Certificado profesional de Ciencia de datos (IBM)\n"
   ]
  },
  {
   "cell_type": "markdown",
   "metadata": {},
   "source": [
    "### Libros \n",
    "\n",
    " * Python for everybody\n",
    " * Think python "
   ]
  },
  {
   "cell_type": "markdown",
   "metadata": {},
   "source": [
    "### Recomendaciones \n",
    "\n",
    "* Saber programar en gran medida es saber leer errores, no se asusten por equivocarse. Aprendan de sus errores, suena muy trillado pero para programar es esencial\n",
    "* Buscar el error en _stack overflow_ siempre es de gran ayuda \n",
    "* Hagan proyectos colaborativos, aprovechen la oportunidad de aprender chaciendo en equipo. "
   ]
  },
  {
   "cell_type": "markdown",
   "metadata": {},
   "source": [
    "## 6.- Extra: solucion de problemas con python"
   ]
  },
  {
   "cell_type": "markdown",
   "metadata": {},
   "source": [
    "Planteamiento: en un tablero de ajedrez de 4x4 colocar 4 reinas de tal modo que no se hagan daño entre sí  "
   ]
  },
  {
   "cell_type": "markdown",
   "metadata": {},
   "source": [
    "![NQueens](StepsNQueens04.png)"
   ]
  },
  {
   "cell_type": "markdown",
   "metadata": {},
   "source": [
    "¿De qué manera podemos solucionar el problema para N =8) "
   ]
  },
  {
   "cell_type": "markdown",
   "metadata": {},
   "source": [
    "![8Queens](queens_attack_patterns.png)"
   ]
  },
  {
   "cell_type": "code",
   "execution_count": null,
   "metadata": {},
   "outputs": [
    {
     "name": "stdout",
     "output_type": "stream",
     "text": [
      "Solution 1: (0, 4, 7, 5, 2, 6, 1, 3)\n",
      "\n",
      " X  o  o  o  o  o  o  o \n",
      " o  o  o  o  X  o  o  o \n",
      " o  o  o  o  o  o  o  X \n",
      " o  o  o  o  o  X  o  o \n",
      " o  o  X  o  o  o  o  o \n",
      " o  o  o  o  o  o  X  o \n",
      " o  X  o  o  o  o  o  o \n",
      " o  o  o  X  o  o  o  o \n",
      "\n",
      "\n",
      "\n",
      "\n",
      "Solution 2: (0, 5, 7, 2, 6, 3, 1, 4)\n",
      "\n",
      " X  o  o  o  o  o  o  o \n",
      " o  o  o  o  o  X  o  o \n",
      " o  o  o  o  o  o  o  X \n",
      " o  o  X  o  o  o  o  o \n",
      " o  o  o  o  o  o  X  o \n",
      " o  o  o  X  o  o  o  o \n",
      " o  X  o  o  o  o  o  o \n",
      " o  o  o  o  X  o  o  o \n",
      "\n",
      "\n",
      "\n",
      "\n",
      "Solution 3: (0, 6, 3, 5, 7, 1, 4, 2)\n",
      "\n",
      " X  o  o  o  o  o  o  o \n",
      " o  o  o  o  o  o  X  o \n",
      " o  o  o  X  o  o  o  o \n",
      " o  o  o  o  o  X  o  o \n",
      " o  o  o  o  o  o  o  X \n",
      " o  X  o  o  o  o  o  o \n",
      " o  o  o  o  X  o  o  o \n",
      " o  o  X  o  o  o  o  o \n",
      "\n",
      "\n",
      "\n",
      "\n",
      "Solution 4: (0, 6, 4, 7, 1, 3, 5, 2)\n",
      "\n",
      " X  o  o  o  o  o  o  o \n",
      " o  o  o  o  o  o  X  o \n",
      " o  o  o  o  X  o  o  o \n",
      " o  o  o  o  o  o  o  X \n",
      " o  X  o  o  o  o  o  o \n",
      " o  o  o  X  o  o  o  o \n",
      " o  o  o  o  o  X  o  o \n",
      " o  o  X  o  o  o  o  o \n",
      "\n",
      "\n",
      "\n",
      "\n",
      "Solution 5: (1, 3, 5, 7, 2, 0, 6, 4)\n",
      "\n",
      " o  X  o  o  o  o  o  o \n",
      " o  o  o  X  o  o  o  o \n",
      " o  o  o  o  o  X  o  o \n",
      " o  o  o  o  o  o  o  X \n",
      " o  o  X  o  o  o  o  o \n",
      " X  o  o  o  o  o  o  o \n",
      " o  o  o  o  o  o  X  o \n",
      " o  o  o  o  X  o  o  o \n",
      "\n",
      "\n",
      "\n",
      "\n",
      "Solution 6: (1, 4, 6, 0, 2, 7, 5, 3)\n",
      "\n",
      " o  X  o  o  o  o  o  o \n",
      " o  o  o  o  X  o  o  o \n",
      " o  o  o  o  o  o  X  o \n",
      " X  o  o  o  o  o  o  o \n",
      " o  o  X  o  o  o  o  o \n",
      " o  o  o  o  o  o  o  X \n",
      " o  o  o  o  o  X  o  o \n",
      " o  o  o  X  o  o  o  o \n",
      "\n",
      "\n",
      "\n",
      "\n",
      "Solution 7: (1, 4, 6, 3, 0, 7, 5, 2)\n",
      "\n",
      " o  X  o  o  o  o  o  o \n",
      " o  o  o  o  X  o  o  o \n",
      " o  o  o  o  o  o  X  o \n",
      " o  o  o  X  o  o  o  o \n",
      " X  o  o  o  o  o  o  o \n",
      " o  o  o  o  o  o  o  X \n",
      " o  o  o  o  o  X  o  o \n",
      " o  o  X  o  o  o  o  o \n",
      "\n",
      "\n",
      "\n",
      "\n",
      "Solution 8: (1, 5, 0, 6, 3, 7, 2, 4)\n",
      "\n",
      " o  X  o  o  o  o  o  o \n",
      " o  o  o  o  o  X  o  o \n",
      " X  o  o  o  o  o  o  o \n",
      " o  o  o  o  o  o  X  o \n",
      " o  o  o  X  o  o  o  o \n",
      " o  o  o  o  o  o  o  X \n",
      " o  o  X  o  o  o  o  o \n",
      " o  o  o  o  X  o  o  o \n",
      "\n",
      "\n",
      "\n",
      "\n",
      "Solution 9: (1, 5, 7, 2, 0, 3, 6, 4)\n",
      "\n",
      " o  X  o  o  o  o  o  o \n",
      " o  o  o  o  o  X  o  o \n",
      " o  o  o  o  o  o  o  X \n",
      " o  o  X  o  o  o  o  o \n",
      " X  o  o  o  o  o  o  o \n",
      " o  o  o  X  o  o  o  o \n",
      " o  o  o  o  o  o  X  o \n",
      " o  o  o  o  X  o  o  o \n",
      "\n",
      "\n",
      "\n",
      "\n",
      "Solution 10: (1, 6, 2, 5, 7, 4, 0, 3)\n",
      "\n",
      " o  X  o  o  o  o  o  o \n",
      " o  o  o  o  o  o  X  o \n",
      " o  o  X  o  o  o  o  o \n",
      " o  o  o  o  o  X  o  o \n",
      " o  o  o  o  o  o  o  X \n",
      " o  o  o  o  X  o  o  o \n",
      " X  o  o  o  o  o  o  o \n",
      " o  o  o  X  o  o  o  o \n",
      "\n",
      "\n",
      "\n",
      "\n",
      "Solution 11: (1, 6, 4, 7, 0, 3, 5, 2)\n",
      "\n",
      " o  X  o  o  o  o  o  o \n",
      " o  o  o  o  o  o  X  o \n",
      " o  o  o  o  X  o  o  o \n",
      " o  o  o  o  o  o  o  X \n",
      " X  o  o  o  o  o  o  o \n",
      " o  o  o  X  o  o  o  o \n",
      " o  o  o  o  o  X  o  o \n",
      " o  o  X  o  o  o  o  o \n",
      "\n",
      "\n",
      "\n",
      "\n",
      "Solution 12: (1, 7, 5, 0, 2, 4, 6, 3)\n",
      "\n",
      " o  X  o  o  o  o  o  o \n",
      " o  o  o  o  o  o  o  X \n",
      " o  o  o  o  o  X  o  o \n",
      " X  o  o  o  o  o  o  o \n",
      " o  o  X  o  o  o  o  o \n",
      " o  o  o  o  X  o  o  o \n",
      " o  o  o  o  o  o  X  o \n",
      " o  o  o  X  o  o  o  o \n",
      "\n",
      "\n",
      "\n",
      "\n",
      "Solution 13: (2, 0, 6, 4, 7, 1, 3, 5)\n",
      "\n",
      " o  o  X  o  o  o  o  o \n",
      " X  o  o  o  o  o  o  o \n",
      " o  o  o  o  o  o  X  o \n",
      " o  o  o  o  X  o  o  o \n",
      " o  o  o  o  o  o  o  X \n",
      " o  X  o  o  o  o  o  o \n",
      " o  o  o  X  o  o  o  o \n",
      " o  o  o  o  o  X  o  o \n",
      "\n",
      "\n",
      "\n",
      "\n",
      "Solution 14: (2, 4, 1, 7, 0, 6, 3, 5)\n",
      "\n",
      " o  o  X  o  o  o  o  o \n",
      " o  o  o  o  X  o  o  o \n",
      " o  X  o  o  o  o  o  o \n",
      " o  o  o  o  o  o  o  X \n",
      " X  o  o  o  o  o  o  o \n",
      " o  o  o  o  o  o  X  o \n",
      " o  o  o  X  o  o  o  o \n",
      " o  o  o  o  o  X  o  o \n",
      "\n",
      "\n",
      "\n",
      "\n",
      "Solution 15: (2, 4, 1, 7, 5, 3, 6, 0)\n",
      "\n",
      " o  o  X  o  o  o  o  o \n",
      " o  o  o  o  X  o  o  o \n",
      " o  X  o  o  o  o  o  o \n",
      " o  o  o  o  o  o  o  X \n",
      " o  o  o  o  o  X  o  o \n",
      " o  o  o  X  o  o  o  o \n",
      " o  o  o  o  o  o  X  o \n",
      " X  o  o  o  o  o  o  o \n",
      "\n",
      "\n",
      "\n",
      "\n",
      "Solution 16: (2, 4, 6, 0, 3, 1, 7, 5)\n",
      "\n",
      " o  o  X  o  o  o  o  o \n",
      " o  o  o  o  X  o  o  o \n",
      " o  o  o  o  o  o  X  o \n",
      " X  o  o  o  o  o  o  o \n",
      " o  o  o  X  o  o  o  o \n",
      " o  X  o  o  o  o  o  o \n",
      " o  o  o  o  o  o  o  X \n",
      " o  o  o  o  o  X  o  o \n",
      "\n",
      "\n",
      "\n",
      "\n",
      "Solution 17: (2, 4, 7, 3, 0, 6, 1, 5)\n",
      "\n",
      " o  o  X  o  o  o  o  o \n",
      " o  o  o  o  X  o  o  o \n",
      " o  o  o  o  o  o  o  X \n",
      " o  o  o  X  o  o  o  o \n",
      " X  o  o  o  o  o  o  o \n",
      " o  o  o  o  o  o  X  o \n",
      " o  X  o  o  o  o  o  o \n",
      " o  o  o  o  o  X  o  o \n",
      "\n",
      "\n",
      "\n",
      "\n",
      "Solution 18: (2, 5, 1, 4, 7, 0, 6, 3)\n",
      "\n",
      " o  o  X  o  o  o  o  o \n",
      " o  o  o  o  o  X  o  o \n",
      " o  X  o  o  o  o  o  o \n",
      " o  o  o  o  X  o  o  o \n",
      " o  o  o  o  o  o  o  X \n",
      " X  o  o  o  o  o  o  o \n",
      " o  o  o  o  o  o  X  o \n",
      " o  o  o  X  o  o  o  o \n",
      "\n",
      "\n",
      "\n",
      "\n",
      "Solution 19: (2, 5, 1, 6, 0, 3, 7, 4)\n",
      "\n",
      " o  o  X  o  o  o  o  o \n",
      " o  o  o  o  o  X  o  o \n",
      " o  X  o  o  o  o  o  o \n",
      " o  o  o  o  o  o  X  o \n",
      " X  o  o  o  o  o  o  o \n",
      " o  o  o  X  o  o  o  o \n",
      " o  o  o  o  o  o  o  X \n",
      " o  o  o  o  X  o  o  o \n",
      "\n",
      "\n",
      "\n",
      "\n",
      "Solution 20: (2, 5, 1, 6, 4, 0, 7, 3)\n",
      "\n",
      " o  o  X  o  o  o  o  o \n",
      " o  o  o  o  o  X  o  o \n",
      " o  X  o  o  o  o  o  o \n",
      " o  o  o  o  o  o  X  o \n",
      " o  o  o  o  X  o  o  o \n",
      " X  o  o  o  o  o  o  o \n",
      " o  o  o  o  o  o  o  X \n",
      " o  o  o  X  o  o  o  o \n",
      "\n",
      "\n",
      "\n",
      "\n",
      "Solution 21: (2, 5, 3, 0, 7, 4, 6, 1)\n",
      "\n",
      " o  o  X  o  o  o  o  o \n",
      " o  o  o  o  o  X  o  o \n",
      " o  o  o  X  o  o  o  o \n",
      " X  o  o  o  o  o  o  o \n",
      " o  o  o  o  o  o  o  X \n",
      " o  o  o  o  X  o  o  o \n",
      " o  o  o  o  o  o  X  o \n",
      " o  X  o  o  o  o  o  o \n",
      "\n",
      "\n",
      "\n",
      "\n",
      "Solution 22: (2, 5, 3, 1, 7, 4, 6, 0)\n",
      "\n",
      " o  o  X  o  o  o  o  o \n",
      " o  o  o  o  o  X  o  o \n",
      " o  o  o  X  o  o  o  o \n",
      " o  X  o  o  o  o  o  o \n",
      " o  o  o  o  o  o  o  X \n",
      " o  o  o  o  X  o  o  o \n",
      " o  o  o  o  o  o  X  o \n",
      " X  o  o  o  o  o  o  o \n",
      "\n",
      "\n",
      "\n",
      "\n",
      "Solution 23: (2, 5, 7, 0, 3, 6, 4, 1)\n",
      "\n",
      " o  o  X  o  o  o  o  o \n",
      " o  o  o  o  o  X  o  o \n",
      " o  o  o  o  o  o  o  X \n",
      " X  o  o  o  o  o  o  o \n",
      " o  o  o  X  o  o  o  o \n",
      " o  o  o  o  o  o  X  o \n",
      " o  o  o  o  X  o  o  o \n",
      " o  X  o  o  o  o  o  o \n",
      "\n",
      "\n",
      "\n",
      "\n",
      "Solution 24: (2, 5, 7, 0, 4, 6, 1, 3)\n",
      "\n",
      " o  o  X  o  o  o  o  o \n",
      " o  o  o  o  o  X  o  o \n",
      " o  o  o  o  o  o  o  X \n",
      " X  o  o  o  o  o  o  o \n",
      " o  o  o  o  X  o  o  o \n",
      " o  o  o  o  o  o  X  o \n",
      " o  X  o  o  o  o  o  o \n",
      " o  o  o  X  o  o  o  o \n",
      "\n",
      "\n",
      "\n",
      "\n",
      "Solution 25: (2, 5, 7, 1, 3, 0, 6, 4)\n",
      "\n",
      " o  o  X  o  o  o  o  o \n",
      " o  o  o  o  o  X  o  o \n",
      " o  o  o  o  o  o  o  X \n",
      " o  X  o  o  o  o  o  o \n",
      " o  o  o  X  o  o  o  o \n",
      " X  o  o  o  o  o  o  o \n",
      " o  o  o  o  o  o  X  o \n",
      " o  o  o  o  X  o  o  o \n",
      "\n",
      "\n",
      "\n",
      "\n",
      "Solution 26: (2, 6, 1, 7, 4, 0, 3, 5)\n",
      "\n",
      " o  o  X  o  o  o  o  o \n",
      " o  o  o  o  o  o  X  o \n",
      " o  X  o  o  o  o  o  o \n",
      " o  o  o  o  o  o  o  X \n",
      " o  o  o  o  X  o  o  o \n",
      " X  o  o  o  o  o  o  o \n",
      " o  o  o  X  o  o  o  o \n",
      " o  o  o  o  o  X  o  o \n",
      "\n",
      "\n",
      "\n",
      "\n",
      "Solution 27: (2, 6, 1, 7, 5, 3, 0, 4)\n",
      "\n",
      " o  o  X  o  o  o  o  o \n",
      " o  o  o  o  o  o  X  o \n",
      " o  X  o  o  o  o  o  o \n",
      " o  o  o  o  o  o  o  X \n",
      " o  o  o  o  o  X  o  o \n",
      " o  o  o  X  o  o  o  o \n",
      " X  o  o  o  o  o  o  o \n",
      " o  o  o  o  X  o  o  o \n",
      "\n",
      "\n",
      "\n",
      "\n",
      "Solution 28: (2, 7, 3, 6, 0, 5, 1, 4)\n",
      "\n",
      " o  o  X  o  o  o  o  o \n",
      " o  o  o  o  o  o  o  X \n",
      " o  o  o  X  o  o  o  o \n",
      " o  o  o  o  o  o  X  o \n",
      " X  o  o  o  o  o  o  o \n",
      " o  o  o  o  o  X  o  o \n",
      " o  X  o  o  o  o  o  o \n",
      " o  o  o  o  X  o  o  o \n",
      "\n",
      "\n",
      "\n",
      "\n",
      "Solution 29: (3, 0, 4, 7, 1, 6, 2, 5)\n",
      "\n",
      " o  o  o  X  o  o  o  o \n",
      " X  o  o  o  o  o  o  o \n",
      " o  o  o  o  X  o  o  o \n",
      " o  o  o  o  o  o  o  X \n",
      " o  X  o  o  o  o  o  o \n",
      " o  o  o  o  o  o  X  o \n",
      " o  o  X  o  o  o  o  o \n",
      " o  o  o  o  o  X  o  o \n",
      "\n",
      "\n",
      "\n",
      "\n",
      "Solution 30: (3, 0, 4, 7, 5, 2, 6, 1)\n",
      "\n",
      " o  o  o  X  o  o  o  o \n",
      " X  o  o  o  o  o  o  o \n",
      " o  o  o  o  X  o  o  o \n",
      " o  o  o  o  o  o  o  X \n",
      " o  o  o  o  o  X  o  o \n",
      " o  o  X  o  o  o  o  o \n",
      " o  o  o  o  o  o  X  o \n",
      " o  X  o  o  o  o  o  o \n",
      "\n",
      "\n",
      "\n",
      "\n",
      "Solution 31: (3, 1, 4, 7, 5, 0, 2, 6)\n",
      "\n",
      " o  o  o  X  o  o  o  o \n",
      " o  X  o  o  o  o  o  o \n",
      " o  o  o  o  X  o  o  o \n",
      " o  o  o  o  o  o  o  X \n",
      " o  o  o  o  o  X  o  o \n",
      " X  o  o  o  o  o  o  o \n",
      " o  o  X  o  o  o  o  o \n",
      " o  o  o  o  o  o  X  o \n",
      "\n",
      "\n",
      "\n",
      "\n",
      "Solution 32: (3, 1, 6, 2, 5, 7, 0, 4)\n",
      "\n",
      " o  o  o  X  o  o  o  o \n",
      " o  X  o  o  o  o  o  o \n",
      " o  o  o  o  o  o  X  o \n",
      " o  o  X  o  o  o  o  o \n",
      " o  o  o  o  o  X  o  o \n",
      " o  o  o  o  o  o  o  X \n",
      " X  o  o  o  o  o  o  o \n",
      " o  o  o  o  X  o  o  o \n",
      "\n",
      "\n",
      "\n",
      "\n",
      "Solution 33: (3, 1, 6, 2, 5, 7, 4, 0)\n",
      "\n",
      " o  o  o  X  o  o  o  o \n",
      " o  X  o  o  o  o  o  o \n",
      " o  o  o  o  o  o  X  o \n",
      " o  o  X  o  o  o  o  o \n",
      " o  o  o  o  o  X  o  o \n",
      " o  o  o  o  o  o  o  X \n",
      " o  o  o  o  X  o  o  o \n",
      " X  o  o  o  o  o  o  o \n",
      "\n",
      "\n",
      "\n",
      "\n",
      "Solution 34: (3, 1, 6, 4, 0, 7, 5, 2)\n",
      "\n",
      " o  o  o  X  o  o  o  o \n",
      " o  X  o  o  o  o  o  o \n",
      " o  o  o  o  o  o  X  o \n",
      " o  o  o  o  X  o  o  o \n",
      " X  o  o  o  o  o  o  o \n",
      " o  o  o  o  o  o  o  X \n",
      " o  o  o  o  o  X  o  o \n",
      " o  o  X  o  o  o  o  o \n",
      "\n",
      "\n",
      "\n",
      "\n",
      "Solution 35: (3, 1, 7, 4, 6, 0, 2, 5)\n",
      "\n",
      " o  o  o  X  o  o  o  o \n",
      " o  X  o  o  o  o  o  o \n",
      " o  o  o  o  o  o  o  X \n",
      " o  o  o  o  X  o  o  o \n",
      " o  o  o  o  o  o  X  o \n",
      " X  o  o  o  o  o  o  o \n",
      " o  o  X  o  o  o  o  o \n",
      " o  o  o  o  o  X  o  o \n",
      "\n",
      "\n",
      "\n",
      "\n",
      "Solution 36: (3, 1, 7, 5, 0, 2, 4, 6)\n",
      "\n",
      " o  o  o  X  o  o  o  o \n",
      " o  X  o  o  o  o  o  o \n",
      " o  o  o  o  o  o  o  X \n",
      " o  o  o  o  o  X  o  o \n",
      " X  o  o  o  o  o  o  o \n",
      " o  o  X  o  o  o  o  o \n",
      " o  o  o  o  X  o  o  o \n",
      " o  o  o  o  o  o  X  o \n",
      "\n",
      "\n",
      "\n",
      "\n",
      "Solution 37: (3, 5, 0, 4, 1, 7, 2, 6)\n",
      "\n",
      " o  o  o  X  o  o  o  o \n",
      " o  o  o  o  o  X  o  o \n",
      " X  o  o  o  o  o  o  o \n",
      " o  o  o  o  X  o  o  o \n",
      " o  X  o  o  o  o  o  o \n",
      " o  o  o  o  o  o  o  X \n",
      " o  o  X  o  o  o  o  o \n",
      " o  o  o  o  o  o  X  o \n",
      "\n",
      "\n",
      "\n",
      "\n",
      "Solution 38: (3, 5, 7, 1, 6, 0, 2, 4)\n",
      "\n",
      " o  o  o  X  o  o  o  o \n",
      " o  o  o  o  o  X  o  o \n",
      " o  o  o  o  o  o  o  X \n",
      " o  X  o  o  o  o  o  o \n",
      " o  o  o  o  o  o  X  o \n",
      " X  o  o  o  o  o  o  o \n",
      " o  o  X  o  o  o  o  o \n",
      " o  o  o  o  X  o  o  o \n",
      "\n",
      "\n",
      "\n",
      "\n",
      "Solution 39: (3, 5, 7, 2, 0, 6, 4, 1)\n",
      "\n",
      " o  o  o  X  o  o  o  o \n",
      " o  o  o  o  o  X  o  o \n",
      " o  o  o  o  o  o  o  X \n",
      " o  o  X  o  o  o  o  o \n",
      " X  o  o  o  o  o  o  o \n",
      " o  o  o  o  o  o  X  o \n",
      " o  o  o  o  X  o  o  o \n",
      " o  X  o  o  o  o  o  o \n",
      "\n",
      "\n",
      "\n",
      "\n",
      "Solution 40: (3, 6, 0, 7, 4, 1, 5, 2)\n",
      "\n",
      " o  o  o  X  o  o  o  o \n",
      " o  o  o  o  o  o  X  o \n",
      " X  o  o  o  o  o  o  o \n",
      " o  o  o  o  o  o  o  X \n",
      " o  o  o  o  X  o  o  o \n",
      " o  X  o  o  o  o  o  o \n",
      " o  o  o  o  o  X  o  o \n",
      " o  o  X  o  o  o  o  o \n",
      "\n",
      "\n",
      "\n",
      "\n",
      "Solution 41: (3, 6, 2, 7, 1, 4, 0, 5)\n",
      "\n",
      " o  o  o  X  o  o  o  o \n",
      " o  o  o  o  o  o  X  o \n",
      " o  o  X  o  o  o  o  o \n",
      " o  o  o  o  o  o  o  X \n",
      " o  X  o  o  o  o  o  o \n",
      " o  o  o  o  X  o  o  o \n",
      " X  o  o  o  o  o  o  o \n",
      " o  o  o  o  o  X  o  o \n",
      "\n",
      "\n",
      "\n",
      "\n",
      "Solution 42: (3, 6, 4, 1, 5, 0, 2, 7)\n",
      "\n",
      " o  o  o  X  o  o  o  o \n",
      " o  o  o  o  o  o  X  o \n",
      " o  o  o  o  X  o  o  o \n",
      " o  X  o  o  o  o  o  o \n",
      " o  o  o  o  o  X  o  o \n",
      " X  o  o  o  o  o  o  o \n",
      " o  o  X  o  o  o  o  o \n",
      " o  o  o  o  o  o  o  X \n",
      "\n",
      "\n",
      "\n",
      "\n",
      "Solution 43: (3, 6, 4, 2, 0, 5, 7, 1)\n",
      "\n",
      " o  o  o  X  o  o  o  o \n",
      " o  o  o  o  o  o  X  o \n",
      " o  o  o  o  X  o  o  o \n",
      " o  o  X  o  o  o  o  o \n",
      " X  o  o  o  o  o  o  o \n",
      " o  o  o  o  o  X  o  o \n",
      " o  o  o  o  o  o  o  X \n",
      " o  X  o  o  o  o  o  o \n",
      "\n",
      "\n",
      "\n",
      "\n",
      "Solution 44: (3, 7, 0, 2, 5, 1, 6, 4)\n",
      "\n",
      " o  o  o  X  o  o  o  o \n",
      " o  o  o  o  o  o  o  X \n",
      " X  o  o  o  o  o  o  o \n",
      " o  o  X  o  o  o  o  o \n",
      " o  o  o  o  o  X  o  o \n",
      " o  X  o  o  o  o  o  o \n",
      " o  o  o  o  o  o  X  o \n",
      " o  o  o  o  X  o  o  o \n",
      "\n",
      "\n",
      "\n",
      "\n",
      "Solution 45: (3, 7, 0, 4, 6, 1, 5, 2)\n",
      "\n",
      " o  o  o  X  o  o  o  o \n",
      " o  o  o  o  o  o  o  X \n",
      " X  o  o  o  o  o  o  o \n",
      " o  o  o  o  X  o  o  o \n",
      " o  o  o  o  o  o  X  o \n",
      " o  X  o  o  o  o  o  o \n",
      " o  o  o  o  o  X  o  o \n",
      " o  o  X  o  o  o  o  o \n",
      "\n",
      "\n",
      "\n",
      "\n",
      "Solution 46: (3, 7, 4, 2, 0, 6, 1, 5)\n",
      "\n",
      " o  o  o  X  o  o  o  o \n",
      " o  o  o  o  o  o  o  X \n",
      " o  o  o  o  X  o  o  o \n",
      " o  o  X  o  o  o  o  o \n",
      " X  o  o  o  o  o  o  o \n",
      " o  o  o  o  o  o  X  o \n",
      " o  X  o  o  o  o  o  o \n",
      " o  o  o  o  o  X  o  o \n",
      "\n",
      "\n",
      "\n",
      "\n",
      "Solution 47: (4, 0, 3, 5, 7, 1, 6, 2)\n",
      "\n",
      " o  o  o  o  X  o  o  o \n",
      " X  o  o  o  o  o  o  o \n",
      " o  o  o  X  o  o  o  o \n",
      " o  o  o  o  o  X  o  o \n",
      " o  o  o  o  o  o  o  X \n",
      " o  X  o  o  o  o  o  o \n",
      " o  o  o  o  o  o  X  o \n",
      " o  o  X  o  o  o  o  o \n",
      "\n",
      "\n",
      "\n",
      "\n",
      "Solution 48: (4, 0, 7, 3, 1, 6, 2, 5)\n",
      "\n",
      " o  o  o  o  X  o  o  o \n",
      " X  o  o  o  o  o  o  o \n",
      " o  o  o  o  o  o  o  X \n",
      " o  o  o  X  o  o  o  o \n",
      " o  X  o  o  o  o  o  o \n",
      " o  o  o  o  o  o  X  o \n",
      " o  o  X  o  o  o  o  o \n",
      " o  o  o  o  o  X  o  o \n",
      "\n",
      "\n",
      "\n",
      "\n",
      "Solution 49: (4, 0, 7, 5, 2, 6, 1, 3)\n",
      "\n",
      " o  o  o  o  X  o  o  o \n",
      " X  o  o  o  o  o  o  o \n",
      " o  o  o  o  o  o  o  X \n",
      " o  o  o  o  o  X  o  o \n",
      " o  o  X  o  o  o  o  o \n",
      " o  o  o  o  o  o  X  o \n",
      " o  X  o  o  o  o  o  o \n",
      " o  o  o  X  o  o  o  o \n",
      "\n",
      "\n",
      "\n",
      "\n",
      "Solution 50: (4, 1, 3, 5, 7, 2, 0, 6)\n",
      "\n",
      " o  o  o  o  X  o  o  o \n",
      " o  X  o  o  o  o  o  o \n",
      " o  o  o  X  o  o  o  o \n",
      " o  o  o  o  o  X  o  o \n",
      " o  o  o  o  o  o  o  X \n",
      " o  o  X  o  o  o  o  o \n",
      " X  o  o  o  o  o  o  o \n",
      " o  o  o  o  o  o  X  o \n",
      "\n",
      "\n",
      "\n",
      "\n",
      "Solution 51: (4, 1, 3, 6, 2, 7, 5, 0)\n",
      "\n",
      " o  o  o  o  X  o  o  o \n",
      " o  X  o  o  o  o  o  o \n",
      " o  o  o  X  o  o  o  o \n",
      " o  o  o  o  o  o  X  o \n",
      " o  o  X  o  o  o  o  o \n",
      " o  o  o  o  o  o  o  X \n",
      " o  o  o  o  o  X  o  o \n",
      " X  o  o  o  o  o  o  o \n",
      "\n",
      "\n",
      "\n",
      "\n",
      "Solution 52: (4, 1, 5, 0, 6, 3, 7, 2)\n",
      "\n",
      " o  o  o  o  X  o  o  o \n",
      " o  X  o  o  o  o  o  o \n",
      " o  o  o  o  o  X  o  o \n",
      " X  o  o  o  o  o  o  o \n",
      " o  o  o  o  o  o  X  o \n",
      " o  o  o  X  o  o  o  o \n",
      " o  o  o  o  o  o  o  X \n",
      " o  o  X  o  o  o  o  o \n",
      "\n",
      "\n",
      "\n",
      "\n",
      "Solution 53: (4, 1, 7, 0, 3, 6, 2, 5)\n",
      "\n",
      " o  o  o  o  X  o  o  o \n",
      " o  X  o  o  o  o  o  o \n",
      " o  o  o  o  o  o  o  X \n",
      " X  o  o  o  o  o  o  o \n",
      " o  o  o  X  o  o  o  o \n",
      " o  o  o  o  o  o  X  o \n",
      " o  o  X  o  o  o  o  o \n",
      " o  o  o  o  o  X  o  o \n",
      "\n",
      "\n",
      "\n",
      "\n",
      "Solution 54: (4, 2, 0, 5, 7, 1, 3, 6)\n",
      "\n",
      " o  o  o  o  X  o  o  o \n",
      " o  o  X  o  o  o  o  o \n",
      " X  o  o  o  o  o  o  o \n",
      " o  o  o  o  o  X  o  o \n",
      " o  o  o  o  o  o  o  X \n",
      " o  X  o  o  o  o  o  o \n",
      " o  o  o  X  o  o  o  o \n",
      " o  o  o  o  o  o  X  o \n",
      "\n",
      "\n",
      "\n",
      "\n",
      "Solution 55: (4, 2, 0, 6, 1, 7, 5, 3)\n",
      "\n",
      " o  o  o  o  X  o  o  o \n",
      " o  o  X  o  o  o  o  o \n",
      " X  o  o  o  o  o  o  o \n",
      " o  o  o  o  o  o  X  o \n",
      " o  X  o  o  o  o  o  o \n",
      " o  o  o  o  o  o  o  X \n",
      " o  o  o  o  o  X  o  o \n",
      " o  o  o  X  o  o  o  o \n",
      "\n",
      "\n",
      "\n",
      "\n",
      "Solution 56: (4, 2, 7, 3, 6, 0, 5, 1)\n",
      "\n",
      " o  o  o  o  X  o  o  o \n",
      " o  o  X  o  o  o  o  o \n",
      " o  o  o  o  o  o  o  X \n",
      " o  o  o  X  o  o  o  o \n",
      " o  o  o  o  o  o  X  o \n",
      " X  o  o  o  o  o  o  o \n",
      " o  o  o  o  o  X  o  o \n",
      " o  X  o  o  o  o  o  o \n",
      "\n",
      "\n",
      "\n",
      "\n",
      "Solution 57: (4, 6, 0, 2, 7, 5, 3, 1)\n",
      "\n",
      " o  o  o  o  X  o  o  o \n",
      " o  o  o  o  o  o  X  o \n",
      " X  o  o  o  o  o  o  o \n",
      " o  o  X  o  o  o  o  o \n",
      " o  o  o  o  o  o  o  X \n",
      " o  o  o  o  o  X  o  o \n",
      " o  o  o  X  o  o  o  o \n",
      " o  X  o  o  o  o  o  o \n",
      "\n",
      "\n",
      "\n",
      "\n",
      "Solution 58: (4, 6, 0, 3, 1, 7, 5, 2)\n",
      "\n",
      " o  o  o  o  X  o  o  o \n",
      " o  o  o  o  o  o  X  o \n",
      " X  o  o  o  o  o  o  o \n",
      " o  o  o  X  o  o  o  o \n",
      " o  X  o  o  o  o  o  o \n",
      " o  o  o  o  o  o  o  X \n",
      " o  o  o  o  o  X  o  o \n",
      " o  o  X  o  o  o  o  o \n",
      "\n",
      "\n",
      "\n",
      "\n",
      "Solution 59: (4, 6, 1, 3, 7, 0, 2, 5)\n",
      "\n",
      " o  o  o  o  X  o  o  o \n",
      " o  o  o  o  o  o  X  o \n",
      " o  X  o  o  o  o  o  o \n",
      " o  o  o  X  o  o  o  o \n",
      " o  o  o  o  o  o  o  X \n",
      " X  o  o  o  o  o  o  o \n",
      " o  o  X  o  o  o  o  o \n",
      " o  o  o  o  o  X  o  o \n",
      "\n",
      "\n",
      "\n",
      "\n",
      "Solution 60: (4, 6, 1, 5, 2, 0, 3, 7)\n",
      "\n",
      " o  o  o  o  X  o  o  o \n",
      " o  o  o  o  o  o  X  o \n",
      " o  X  o  o  o  o  o  o \n",
      " o  o  o  o  o  X  o  o \n",
      " o  o  X  o  o  o  o  o \n",
      " X  o  o  o  o  o  o  o \n",
      " o  o  o  X  o  o  o  o \n",
      " o  o  o  o  o  o  o  X \n",
      "\n",
      "\n",
      "\n",
      "\n",
      "Solution 61: (4, 6, 1, 5, 2, 0, 7, 3)\n",
      "\n",
      " o  o  o  o  X  o  o  o \n",
      " o  o  o  o  o  o  X  o \n",
      " o  X  o  o  o  o  o  o \n",
      " o  o  o  o  o  X  o  o \n",
      " o  o  X  o  o  o  o  o \n",
      " X  o  o  o  o  o  o  o \n",
      " o  o  o  o  o  o  o  X \n",
      " o  o  o  X  o  o  o  o \n",
      "\n",
      "\n",
      "\n",
      "\n",
      "Solution 62: (4, 6, 3, 0, 2, 7, 5, 1)\n",
      "\n",
      " o  o  o  o  X  o  o  o \n",
      " o  o  o  o  o  o  X  o \n",
      " o  o  o  X  o  o  o  o \n",
      " X  o  o  o  o  o  o  o \n",
      " o  o  X  o  o  o  o  o \n",
      " o  o  o  o  o  o  o  X \n",
      " o  o  o  o  o  X  o  o \n",
      " o  X  o  o  o  o  o  o \n",
      "\n",
      "\n",
      "\n",
      "\n",
      "Solution 63: (4, 7, 3, 0, 2, 5, 1, 6)\n",
      "\n",
      " o  o  o  o  X  o  o  o \n",
      " o  o  o  o  o  o  o  X \n",
      " o  o  o  X  o  o  o  o \n",
      " X  o  o  o  o  o  o  o \n",
      " o  o  X  o  o  o  o  o \n",
      " o  o  o  o  o  X  o  o \n",
      " o  X  o  o  o  o  o  o \n",
      " o  o  o  o  o  o  X  o \n",
      "\n",
      "\n",
      "\n",
      "\n",
      "Solution 64: (4, 7, 3, 0, 6, 1, 5, 2)\n",
      "\n",
      " o  o  o  o  X  o  o  o \n",
      " o  o  o  o  o  o  o  X \n",
      " o  o  o  X  o  o  o  o \n",
      " X  o  o  o  o  o  o  o \n",
      " o  o  o  o  o  o  X  o \n",
      " o  X  o  o  o  o  o  o \n",
      " o  o  o  o  o  X  o  o \n",
      " o  o  X  o  o  o  o  o \n",
      "\n",
      "\n",
      "\n",
      "\n",
      "Solution 65: (5, 0, 4, 1, 7, 2, 6, 3)\n",
      "\n",
      " o  o  o  o  o  X  o  o \n",
      " X  o  o  o  o  o  o  o \n",
      " o  o  o  o  X  o  o  o \n",
      " o  X  o  o  o  o  o  o \n",
      " o  o  o  o  o  o  o  X \n",
      " o  o  X  o  o  o  o  o \n",
      " o  o  o  o  o  o  X  o \n",
      " o  o  o  X  o  o  o  o \n",
      "\n",
      "\n",
      "\n",
      "\n",
      "Solution 66: (5, 1, 6, 0, 2, 4, 7, 3)\n",
      "\n",
      " o  o  o  o  o  X  o  o \n",
      " o  X  o  o  o  o  o  o \n",
      " o  o  o  o  o  o  X  o \n",
      " X  o  o  o  o  o  o  o \n",
      " o  o  X  o  o  o  o  o \n",
      " o  o  o  o  X  o  o  o \n",
      " o  o  o  o  o  o  o  X \n",
      " o  o  o  X  o  o  o  o \n",
      "\n",
      "\n",
      "\n",
      "\n",
      "Solution 67: (5, 1, 6, 0, 3, 7, 4, 2)\n",
      "\n",
      " o  o  o  o  o  X  o  o \n",
      " o  X  o  o  o  o  o  o \n",
      " o  o  o  o  o  o  X  o \n",
      " X  o  o  o  o  o  o  o \n",
      " o  o  o  X  o  o  o  o \n",
      " o  o  o  o  o  o  o  X \n",
      " o  o  o  o  X  o  o  o \n",
      " o  o  X  o  o  o  o  o \n",
      "\n",
      "\n",
      "\n",
      "\n",
      "Solution 68: (5, 2, 0, 6, 4, 7, 1, 3)\n",
      "\n",
      " o  o  o  o  o  X  o  o \n",
      " o  o  X  o  o  o  o  o \n",
      " X  o  o  o  o  o  o  o \n",
      " o  o  o  o  o  o  X  o \n",
      " o  o  o  o  X  o  o  o \n",
      " o  o  o  o  o  o  o  X \n",
      " o  X  o  o  o  o  o  o \n",
      " o  o  o  X  o  o  o  o \n",
      "\n",
      "\n",
      "\n",
      "\n",
      "Solution 69: (5, 2, 0, 7, 3, 1, 6, 4)\n",
      "\n",
      " o  o  o  o  o  X  o  o \n",
      " o  o  X  o  o  o  o  o \n",
      " X  o  o  o  o  o  o  o \n",
      " o  o  o  o  o  o  o  X \n",
      " o  o  o  X  o  o  o  o \n",
      " o  X  o  o  o  o  o  o \n",
      " o  o  o  o  o  o  X  o \n",
      " o  o  o  o  X  o  o  o \n",
      "\n",
      "\n",
      "\n",
      "\n",
      "Solution 70: (5, 2, 0, 7, 4, 1, 3, 6)\n",
      "\n",
      " o  o  o  o  o  X  o  o \n",
      " o  o  X  o  o  o  o  o \n",
      " X  o  o  o  o  o  o  o \n",
      " o  o  o  o  o  o  o  X \n",
      " o  o  o  o  X  o  o  o \n",
      " o  X  o  o  o  o  o  o \n",
      " o  o  o  X  o  o  o  o \n",
      " o  o  o  o  o  o  X  o \n",
      "\n",
      "\n",
      "\n",
      "\n",
      "Solution 71: (5, 2, 4, 6, 0, 3, 1, 7)\n",
      "\n",
      " o  o  o  o  o  X  o  o \n",
      " o  o  X  o  o  o  o  o \n",
      " o  o  o  o  X  o  o  o \n",
      " o  o  o  o  o  o  X  o \n",
      " X  o  o  o  o  o  o  o \n",
      " o  o  o  X  o  o  o  o \n",
      " o  X  o  o  o  o  o  o \n",
      " o  o  o  o  o  o  o  X \n",
      "\n",
      "\n",
      "\n",
      "\n",
      "Solution 72: (5, 2, 4, 7, 0, 3, 1, 6)\n",
      "\n",
      " o  o  o  o  o  X  o  o \n",
      " o  o  X  o  o  o  o  o \n",
      " o  o  o  o  X  o  o  o \n",
      " o  o  o  o  o  o  o  X \n",
      " X  o  o  o  o  o  o  o \n",
      " o  o  o  X  o  o  o  o \n",
      " o  X  o  o  o  o  o  o \n",
      " o  o  o  o  o  o  X  o \n",
      "\n",
      "\n",
      "\n",
      "\n",
      "Solution 73: (5, 2, 6, 1, 3, 7, 0, 4)\n",
      "\n",
      " o  o  o  o  o  X  o  o \n",
      " o  o  X  o  o  o  o  o \n",
      " o  o  o  o  o  o  X  o \n",
      " o  X  o  o  o  o  o  o \n",
      " o  o  o  X  o  o  o  o \n",
      " o  o  o  o  o  o  o  X \n",
      " X  o  o  o  o  o  o  o \n",
      " o  o  o  o  X  o  o  o \n",
      "\n",
      "\n",
      "\n",
      "\n",
      "Solution 74: (5, 2, 6, 1, 7, 4, 0, 3)\n",
      "\n",
      " o  o  o  o  o  X  o  o \n",
      " o  o  X  o  o  o  o  o \n",
      " o  o  o  o  o  o  X  o \n",
      " o  X  o  o  o  o  o  o \n",
      " o  o  o  o  o  o  o  X \n",
      " o  o  o  o  X  o  o  o \n",
      " X  o  o  o  o  o  o  o \n",
      " o  o  o  X  o  o  o  o \n",
      "\n",
      "\n",
      "\n",
      "\n",
      "Solution 75: (5, 2, 6, 3, 0, 7, 1, 4)\n",
      "\n",
      " o  o  o  o  o  X  o  o \n",
      " o  o  X  o  o  o  o  o \n",
      " o  o  o  o  o  o  X  o \n",
      " o  o  o  X  o  o  o  o \n",
      " X  o  o  o  o  o  o  o \n",
      " o  o  o  o  o  o  o  X \n",
      " o  X  o  o  o  o  o  o \n",
      " o  o  o  o  X  o  o  o \n",
      "\n",
      "\n",
      "\n",
      "\n",
      "Solution 76: (5, 3, 0, 4, 7, 1, 6, 2)\n",
      "\n",
      " o  o  o  o  o  X  o  o \n",
      " o  o  o  X  o  o  o  o \n",
      " X  o  o  o  o  o  o  o \n",
      " o  o  o  o  X  o  o  o \n",
      " o  o  o  o  o  o  o  X \n",
      " o  X  o  o  o  o  o  o \n",
      " o  o  o  o  o  o  X  o \n",
      " o  o  X  o  o  o  o  o \n",
      "\n",
      "\n",
      "\n",
      "\n",
      "Solution 77: (5, 3, 1, 7, 4, 6, 0, 2)\n",
      "\n",
      " o  o  o  o  o  X  o  o \n",
      " o  o  o  X  o  o  o  o \n",
      " o  X  o  o  o  o  o  o \n",
      " o  o  o  o  o  o  o  X \n",
      " o  o  o  o  X  o  o  o \n",
      " o  o  o  o  o  o  X  o \n",
      " X  o  o  o  o  o  o  o \n",
      " o  o  X  o  o  o  o  o \n",
      "\n",
      "\n",
      "\n",
      "\n",
      "Solution 78: (5, 3, 6, 0, 2, 4, 1, 7)\n",
      "\n",
      " o  o  o  o  o  X  o  o \n",
      " o  o  o  X  o  o  o  o \n",
      " o  o  o  o  o  o  X  o \n",
      " X  o  o  o  o  o  o  o \n",
      " o  o  X  o  o  o  o  o \n",
      " o  o  o  o  X  o  o  o \n",
      " o  X  o  o  o  o  o  o \n",
      " o  o  o  o  o  o  o  X \n",
      "\n",
      "\n",
      "\n",
      "\n",
      "Solution 79: (5, 3, 6, 0, 7, 1, 4, 2)\n",
      "\n",
      " o  o  o  o  o  X  o  o \n",
      " o  o  o  X  o  o  o  o \n",
      " o  o  o  o  o  o  X  o \n",
      " X  o  o  o  o  o  o  o \n",
      " o  o  o  o  o  o  o  X \n",
      " o  X  o  o  o  o  o  o \n",
      " o  o  o  o  X  o  o  o \n",
      " o  o  X  o  o  o  o  o \n",
      "\n",
      "\n",
      "\n",
      "\n",
      "Solution 80: (5, 7, 1, 3, 0, 6, 4, 2)\n",
      "\n",
      " o  o  o  o  o  X  o  o \n",
      " o  o  o  o  o  o  o  X \n",
      " o  X  o  o  o  o  o  o \n",
      " o  o  o  X  o  o  o  o \n",
      " X  o  o  o  o  o  o  o \n",
      " o  o  o  o  o  o  X  o \n",
      " o  o  o  o  X  o  o  o \n",
      " o  o  X  o  o  o  o  o \n",
      "\n",
      "\n",
      "\n",
      "\n",
      "Solution 81: (6, 0, 2, 7, 5, 3, 1, 4)\n",
      "\n",
      " o  o  o  o  o  o  X  o \n",
      " X  o  o  o  o  o  o  o \n",
      " o  o  X  o  o  o  o  o \n",
      " o  o  o  o  o  o  o  X \n",
      " o  o  o  o  o  X  o  o \n",
      " o  o  o  X  o  o  o  o \n",
      " o  X  o  o  o  o  o  o \n",
      " o  o  o  o  X  o  o  o \n",
      "\n",
      "\n",
      "\n",
      "\n",
      "Solution 82: (6, 1, 3, 0, 7, 4, 2, 5)\n",
      "\n",
      " o  o  o  o  o  o  X  o \n",
      " o  X  o  o  o  o  o  o \n",
      " o  o  o  X  o  o  o  o \n",
      " X  o  o  o  o  o  o  o \n",
      " o  o  o  o  o  o  o  X \n",
      " o  o  o  o  X  o  o  o \n",
      " o  o  X  o  o  o  o  o \n",
      " o  o  o  o  o  X  o  o \n",
      "\n",
      "\n",
      "\n",
      "\n",
      "Solution 83: (6, 1, 5, 2, 0, 3, 7, 4)\n",
      "\n",
      " o  o  o  o  o  o  X  o \n",
      " o  X  o  o  o  o  o  o \n",
      " o  o  o  o  o  X  o  o \n",
      " o  o  X  o  o  o  o  o \n",
      " X  o  o  o  o  o  o  o \n",
      " o  o  o  X  o  o  o  o \n",
      " o  o  o  o  o  o  o  X \n",
      " o  o  o  o  X  o  o  o \n",
      "\n",
      "\n",
      "\n",
      "\n",
      "Solution 84: (6, 2, 0, 5, 7, 4, 1, 3)\n",
      "\n",
      " o  o  o  o  o  o  X  o \n",
      " o  o  X  o  o  o  o  o \n",
      " X  o  o  o  o  o  o  o \n",
      " o  o  o  o  o  X  o  o \n",
      " o  o  o  o  o  o  o  X \n",
      " o  o  o  o  X  o  o  o \n",
      " o  X  o  o  o  o  o  o \n",
      " o  o  o  X  o  o  o  o \n",
      "\n",
      "\n",
      "\n",
      "\n",
      "Solution 85: (6, 2, 7, 1, 4, 0, 5, 3)\n",
      "\n",
      " o  o  o  o  o  o  X  o \n",
      " o  o  X  o  o  o  o  o \n",
      " o  o  o  o  o  o  o  X \n",
      " o  X  o  o  o  o  o  o \n",
      " o  o  o  o  X  o  o  o \n",
      " X  o  o  o  o  o  o  o \n",
      " o  o  o  o  o  X  o  o \n",
      " o  o  o  X  o  o  o  o \n",
      "\n",
      "\n",
      "\n",
      "\n",
      "Solution 86: (6, 3, 1, 4, 7, 0, 2, 5)\n",
      "\n",
      " o  o  o  o  o  o  X  o \n",
      " o  o  o  X  o  o  o  o \n",
      " o  X  o  o  o  o  o  o \n",
      " o  o  o  o  X  o  o  o \n",
      " o  o  o  o  o  o  o  X \n",
      " X  o  o  o  o  o  o  o \n",
      " o  o  X  o  o  o  o  o \n",
      " o  o  o  o  o  X  o  o \n",
      "\n",
      "\n",
      "\n",
      "\n",
      "Solution 87: (6, 3, 1, 7, 5, 0, 2, 4)\n",
      "\n",
      " o  o  o  o  o  o  X  o \n",
      " o  o  o  X  o  o  o  o \n",
      " o  X  o  o  o  o  o  o \n",
      " o  o  o  o  o  o  o  X \n",
      " o  o  o  o  o  X  o  o \n",
      " X  o  o  o  o  o  o  o \n",
      " o  o  X  o  o  o  o  o \n",
      " o  o  o  o  X  o  o  o \n",
      "\n",
      "\n",
      "\n",
      "\n",
      "Solution 88: (6, 4, 2, 0, 5, 7, 1, 3)\n",
      "\n",
      " o  o  o  o  o  o  X  o \n",
      " o  o  o  o  X  o  o  o \n",
      " o  o  X  o  o  o  o  o \n",
      " X  o  o  o  o  o  o  o \n",
      " o  o  o  o  o  X  o  o \n",
      " o  o  o  o  o  o  o  X \n",
      " o  X  o  o  o  o  o  o \n",
      " o  o  o  X  o  o  o  o \n",
      "\n",
      "\n",
      "\n",
      "\n",
      "Solution 89: (7, 1, 3, 0, 6, 4, 2, 5)\n",
      "\n",
      " o  o  o  o  o  o  o  X \n",
      " o  X  o  o  o  o  o  o \n",
      " o  o  o  X  o  o  o  o \n",
      " X  o  o  o  o  o  o  o \n",
      " o  o  o  o  o  o  X  o \n",
      " o  o  o  o  X  o  o  o \n",
      " o  o  X  o  o  o  o  o \n",
      " o  o  o  o  o  X  o  o \n",
      "\n",
      "\n",
      "\n",
      "\n",
      "Solution 90: (7, 1, 4, 2, 0, 6, 3, 5)\n",
      "\n",
      " o  o  o  o  o  o  o  X \n",
      " o  X  o  o  o  o  o  o \n",
      " o  o  o  o  X  o  o  o \n",
      " o  o  X  o  o  o  o  o \n",
      " X  o  o  o  o  o  o  o \n",
      " o  o  o  o  o  o  X  o \n",
      " o  o  o  X  o  o  o  o \n",
      " o  o  o  o  o  X  o  o \n",
      "\n",
      "\n",
      "\n",
      "\n",
      "Solution 91: (7, 2, 0, 5, 1, 4, 6, 3)\n",
      "\n",
      " o  o  o  o  o  o  o  X \n",
      " o  o  X  o  o  o  o  o \n",
      " X  o  o  o  o  o  o  o \n",
      " o  o  o  o  o  X  o  o \n",
      " o  X  o  o  o  o  o  o \n",
      " o  o  o  o  X  o  o  o \n",
      " o  o  o  o  o  o  X  o \n",
      " o  o  o  X  o  o  o  o \n",
      "\n",
      "\n",
      "\n",
      "\n",
      "Solution 92: (7, 3, 0, 2, 5, 1, 6, 4)\n",
      "\n",
      " o  o  o  o  o  o  o  X \n",
      " o  o  o  X  o  o  o  o \n",
      " X  o  o  o  o  o  o  o \n",
      " o  o  X  o  o  o  o  o \n",
      " o  o  o  o  o  X  o  o \n",
      " o  X  o  o  o  o  o  o \n",
      " o  o  o  o  o  o  X  o \n",
      " o  o  o  o  X  o  o  o \n",
      "\n",
      "\n",
      "\n",
      "\n"
     ]
    }
   ],
   "source": [
    "from itertools import permutations\n",
    "\n",
    "N=8\n",
    "sol=0\n",
    "cols = range(N)\n",
    "for combo in permutations(cols):                      \n",
    "    if N==len(set(combo[i]+i for i in cols))==len(set(combo[i]-i for i in cols)):\n",
    "        sol += 1\n",
    "        print('Solution '+str(sol)+': '+str(combo)+'\\n')  \n",
    "        print(\"\\n\".join(' o ' * i + ' X ' + ' o ' * (N-i-1) for i in combo) + \"\\n\\n\\n\\n\")"
   ]
  }
 ],
 "metadata": {
  "interpreter": {
   "hash": "c124d607bc8f1cc156e803198ffd1035bd117c1fdcc88c31f981715e556c40a8"
  },
  "kernelspec": {
   "display_name": "Python 3 (ipykernel)",
   "language": "python",
   "name": "python3"
  },
  "language_info": {
   "codemirror_mode": {
    "name": "ipython",
    "version": 3
   },
   "file_extension": ".py",
   "mimetype": "text/x-python",
   "name": "python",
   "nbconvert_exporter": "python",
   "pygments_lexer": "ipython3",
   "version": "3.10.4"
  }
 },
 "nbformat": 4,
 "nbformat_minor": 4
}
